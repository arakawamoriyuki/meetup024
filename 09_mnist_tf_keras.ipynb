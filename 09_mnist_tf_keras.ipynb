{
 "cells": [
  {
   "cell_type": "markdown",
   "metadata": {
    "collapsed": true
   },
   "source": [
    "# tensorflow in kerasを利用した手書き文字分類\n",
    "\n",
    "ニューラルネットワークを構築する為のtensorflowラッパーライブラリkerasを利用した実装\n",
    "tensorflow in kerasを使う事で、簡単にニューラルネットワークを書きつつ、\n",
    "tensorflowのtensorboardやsession、最適化された計算を利用できます。\n",
    "\n",
    "pre release版tensorflow v1.1.0rc の contrib(将来マージされるかもしれない機能)を利用しています。\n"
   ]
  },
  {
   "cell_type": "markdown",
   "metadata": {
    "collapsed": true
   },
   "source": [
    "### インポート"
   ]
  },
  {
   "cell_type": "code",
   "execution_count": 1,
   "metadata": {
    "collapsed": false
   },
   "outputs": [],
   "source": [
    "import numpy as np\n",
    "import tensorflow as tf\n",
    "from tensorflow.examples.tutorials.mnist import input_data\n",
    "\n",
    "from tensorflow.contrib.keras.python import keras\n",
    "from tensorflow.contrib.keras.python.keras import backend as K"
   ]
  },
  {
   "cell_type": "markdown",
   "metadata": {
    "collapsed": true
   },
   "source": [
    "### データセット"
   ]
  },
  {
   "cell_type": "code",
   "execution_count": 2,
   "metadata": {
    "collapsed": true
   },
   "outputs": [],
   "source": [
    "def load_data():\n",
    "    dirn = './MNIST_data'\n",
    "    mnist = input_data.read_data_sets(dirn, one_hot=True)\n",
    "\n",
    "    print(mnist.train.num_examples, 'train samples')\n",
    "    print(mnist.test.num_examples, 'test samples')\n",
    "    print(mnist.validation.num_examples, 'validation samples (not used)')\n",
    "\n",
    "    return mnist"
   ]
  },
  {
   "cell_type": "markdown",
   "metadata": {
    "collapsed": true
   },
   "source": [
    "### モデルの作成\n",
    "\n"
   ]
  },
  {
   "cell_type": "code",
   "execution_count": 3,
   "metadata": {
    "collapsed": true
   },
   "outputs": [],
   "source": [
    "def mlp_model(input):\n",
    "    # MLP network model\n",
    "    with tf.variable_scope('mlp_model'):\n",
    "        x = keras.layers.Dense(units=512, activation='relu')(input)\n",
    "        x = keras.layers.Dropout(0.2)(x)\n",
    "        x = keras.layers.Dense(units=512, activation='relu')(x)\n",
    "        x = keras.layers.Dropout(0.2)(x)\n",
    "        y_pred = keras.layers.Dense(units=10, activation='softmax')(x)\n",
    "\n",
    "    return y_pred"
   ]
  },
  {
   "cell_type": "markdown",
   "metadata": {
    "collapsed": true
   },
   "source": [
    "### 実行\n",
    "\n"
   ]
  },
  {
   "cell_type": "code",
   "execution_count": 4,
   "metadata": {
    "collapsed": false
   },
   "outputs": [
    {
     "name": "stdout",
     "output_type": "stream",
     "text": [
      "Extracting ./MNIST_data/train-images-idx3-ubyte.gz\n",
      "Extracting ./MNIST_data/train-labels-idx1-ubyte.gz\n",
      "Extracting ./MNIST_data/t10k-images-idx3-ubyte.gz\n",
      "Extracting ./MNIST_data/t10k-labels-idx1-ubyte.gz\n",
      "55000 train samples\n",
      "10000 test samples\n",
      "5000 validation samples (not used)\n",
      "Training...\n",
      "  step, accurary =      0:  0.075\n",
      "  step, accurary =   1000:  0.915\n",
      "  step, accurary =   2000:  0.935\n",
      "  step, accurary =   3000:  0.965\n",
      "  step, accurary =   4000:  0.960\n",
      "  step, accurary =   5000:  0.960\n",
      "  step, accurary =   6000:  0.985\n",
      "  step, accurary =   7000:  0.970\n",
      "  step, accurary =   8000:  0.990\n",
      "  step, accurary =   9000:  0.960\n",
      "  step, accurary =  10000:  0.970\n",
      "Test accuracy: 0.9749\n"
     ]
    }
   ],
   "source": [
    "mnist = load_data()\n",
    "# tensorflow placeholders\n",
    "x = tf.placeholder(tf.float32, [None, 784])\n",
    "y_ = tf.placeholder(tf.float32, [None, 10])\n",
    "# define TF graph\n",
    "y_pred = mlp_model(x)\n",
    "loss = tf.losses.softmax_cross_entropy(y_, y_pred)\n",
    "train_step = tf.train.AdagradOptimizer(0.05).minimize(loss)\n",
    "correct_prediction = tf.equal(tf.argmax(y_pred, 1), tf.argmax(y_, 1))\n",
    "accuracy = tf.reduce_mean(tf.cast(correct_prediction, tf.float32))\n",
    "\n",
    "init = tf.global_variables_initializer()\n",
    "\n",
    "with tf.Session() as sess:\n",
    "    sess.run(init)\n",
    "    print('Training...')\n",
    "    for i in range(10001):\n",
    "        batch_xs, batch_ys = mnist.train.next_batch(100)\n",
    "        train_fd = {x: batch_xs, y_: batch_ys, K.learning_phase(): 1}\n",
    "        train_step.run(feed_dict=train_fd)\n",
    "        if i % 1000 == 0:\n",
    "            batch_xv, batch_yv = mnist.test.next_batch(200)\n",
    "            val_accuracy = accuracy.eval(\n",
    "                {x: batch_xv, y_: batch_yv, K.learning_phase(): 0})\n",
    "            print('  step, accurary = %6d: %6.3f' % (i, val_accuracy))\n",
    "\n",
    "    test_fd = {x: mnist.test.images, y_: mnist.test.labels,\n",
    "                K.learning_phase(): 0}\n",
    "    test_accuracy = accuracy.eval(feed_dict=test_fd)\n",
    "    print('Test accuracy:', test_accuracy)"
   ]
  }
 ],
 "metadata": {
  "kernelspec": {
   "display_name": "Python 3",
   "language": "python",
   "name": "python3"
  },
  "language_info": {
   "codemirror_mode": {
    "name": "ipython",
    "version": 3
   },
   "file_extension": ".py",
   "mimetype": "text/x-python",
   "name": "python",
   "nbconvert_exporter": "python",
   "pygments_lexer": "ipython3",
   "version": "3.5.3"
  }
 },
 "nbformat": 4,
 "nbformat_minor": 0
}
