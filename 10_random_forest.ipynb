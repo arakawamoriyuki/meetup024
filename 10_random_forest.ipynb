{
 "cells": [
  {
   "cell_type": "markdown",
   "metadata": {},
   "source": [
    "# ランダムフォレスト\n",
    "\n",
    "付近のwifiアクセスポイントをランダムフォレスト(機会学習)で学習し、登録されたどの位置に近いかを判定する"
   ]
  },
  {
   "cell_type": "markdown",
   "metadata": {},
   "source": [
    "required sklearn, access-points\n",
    "\n",
    "```\n",
    "$ pip install access-points sklearn\n",
    "```\n",
    "\n",
    "もしくは\n",
    "\n",
    "```\n",
    "$ pip install -r requirements.txt\n",
    "```"
   ]
  },
  {
   "cell_type": "code",
   "execution_count": null,
   "metadata": {
    "collapsed": false
   },
   "outputs": [],
   "source": [
    "import os, pickle, io, csv, json\n",
    "\n",
    "from sklearn.pipeline import make_pipeline\n",
    "from sklearn.ensemble import RandomForestClassifier\n",
    "from sklearn.feature_extraction import DictVectorizer\n",
    "from access_points import get_scanner"
   ]
  },
  {
   "cell_type": "markdown",
   "metadata": {},
   "source": [
    "### アクセスポイント(データセット)の取得関数"
   ]
  },
  {
   "cell_type": "code",
   "execution_count": null,
   "metadata": {
    "collapsed": true
   },
   "outputs": [],
   "source": [
    "def scan_access_points(label='default place', size=1):\n",
    "    print('start scanning {} access points {} times.'.format(label, size))\n",
    "    X = []\n",
    "    y = []\n",
    "    wifi_scanner = get_scanner()\n",
    "    for index in range(int(size)):\n",
    "        print('scan ' + str(index))\n",
    "        access_points = wifi_scanner.get_access_points()\n",
    "        X.append({' '.join([ap.ssid, ap.bssid]): ap.quality for ap in access_points })\n",
    "        y.append(label)\n",
    "    return X, y"
   ]
  },
  {
   "cell_type": "markdown",
   "metadata": {},
   "source": [
    "データセットの中身"
   ]
  },
  {
   "cell_type": "code",
   "execution_count": null,
   "metadata": {
    "collapsed": false,
    "scrolled": true
   },
   "outputs": [],
   "source": [
    "X, y = scan_access_points()\n",
    "for Xi, yi in zip(X, y):\n",
    "    print('{} access points = {}'.format(yi, Xi))"
   ]
  },
  {
   "cell_type": "markdown",
   "metadata": {},
   "source": [
    "### モデルの定義\n",
    "\n",
    "ランダムフォレストを定義。\n",
    "DictVectorizerで、hash型のデータをいい感じに補完してもらう(ないkeyは0にするなど)"
   ]
  },
  {
   "cell_type": "code",
   "execution_count": null,
   "metadata": {
    "collapsed": true
   },
   "outputs": [],
   "source": [
    "model = make_pipeline(\n",
    "    DictVectorizer(sparse=False),\n",
    "    RandomForestClassifier(n_estimators=500, class_weight='balanced')\n",
    ")"
   ]
  },
  {
   "cell_type": "markdown",
   "metadata": {},
   "source": [
    "### サンプリング(データ集め)"
   ]
  },
  {
   "cell_type": "code",
   "execution_count": null,
   "metadata": {
    "collapsed": true
   },
   "outputs": [],
   "source": [
    "X = []\n",
    "y = []"
   ]
  },
  {
   "cell_type": "markdown",
   "metadata": {},
   "source": [
    "リビングに移動して下記を実行します。もしくはlabelを書き換えてください。"
   ]
  },
  {
   "cell_type": "code",
   "execution_count": null,
   "metadata": {
    "collapsed": false
   },
   "outputs": [],
   "source": [
    "_X, _y = scan_access_points(label='living room', size=10)\n",
    "X.extend(_X)\n",
    "y.extend(_y)"
   ]
  },
  {
   "cell_type": "markdown",
   "metadata": {},
   "source": [
    "寝室に移動して下記を実行します。もしくはlabelを書き換えてください。"
   ]
  },
  {
   "cell_type": "code",
   "execution_count": null,
   "metadata": {
    "collapsed": false
   },
   "outputs": [],
   "source": [
    "_X, _y = scan_access_points(label='bedroom room', size=10)\n",
    "X.extend(_X)\n",
    "y.extend(_y)"
   ]
  },
  {
   "cell_type": "markdown",
   "metadata": {},
   "source": [
    "トイレに移動して下記を実行します。もしくはlabelを書き換えてください。"
   ]
  },
  {
   "cell_type": "code",
   "execution_count": null,
   "metadata": {
    "collapsed": false,
    "scrolled": true
   },
   "outputs": [],
   "source": [
    "_X, _y = scan_access_points(label='toilet', size=1)\n",
    "X.extend(_X)\n",
    "y.extend(_y)"
   ]
  },
  {
   "cell_type": "markdown",
   "metadata": {},
   "source": [
    "### トレーニング実行"
   ]
  },
  {
   "cell_type": "code",
   "execution_count": null,
   "metadata": {
    "collapsed": false
   },
   "outputs": [],
   "source": [
    "model.fit(X, y)"
   ]
  },
  {
   "cell_type": "markdown",
   "metadata": {},
   "source": [
    "### 登録されている場所"
   ]
  },
  {
   "cell_type": "code",
   "execution_count": null,
   "metadata": {
    "collapsed": false
   },
   "outputs": [],
   "source": [
    "place_names = model.classes_\n",
    "print(place_names)"
   ]
  },
  {
   "cell_type": "markdown",
   "metadata": {},
   "source": [
    "### 場所の推論\n",
    "\n",
    "登録されている場所に移動して実行します"
   ]
  },
  {
   "cell_type": "code",
   "execution_count": null,
   "metadata": {
    "collapsed": false,
    "scrolled": true
   },
   "outputs": [],
   "source": [
    "X, _ = scan_access_points(size=1)\n",
    "place_name = model.predict(X[0])[0]\n",
    "print(place_name)"
   ]
  },
  {
   "cell_type": "markdown",
   "metadata": {},
   "source": [
    "### 推論結果の割合\n",
    "\n",
    "登録されている場所に移動して実行します"
   ]
  },
  {
   "cell_type": "code",
   "execution_count": null,
   "metadata": {
    "collapsed": false
   },
   "outputs": [],
   "source": [
    "X, _ = scan_access_points(size=1)\n",
    "percentages = {x: y for x, y in zip(place_names, model.predict_proba(X[0])[0])}\n",
    "print(percentages)"
   ]
  }
 ],
 "metadata": {
  "anaconda-cloud": {},
  "kernelspec": {
   "display_name": "Python 3",
   "language": "python",
   "name": "python3"
  },
  "language_info": {
   "codemirror_mode": {
    "name": "ipython",
    "version": 3
   },
   "file_extension": ".py",
   "mimetype": "text/x-python",
   "name": "python",
   "nbconvert_exporter": "python",
   "pygments_lexer": "ipython3",
   "version": "3.5.1"
  }
 },
 "nbformat": 4,
 "nbformat_minor": 1
}
