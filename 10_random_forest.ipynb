{
 "cells": [
  {
   "cell_type": "markdown",
   "metadata": {},
   "source": [
    "# ランダムフォレスト\n",
    "\n",
    "付近のwifiアクセスポイントをランダムフォレスト(機会学習)で学習し、登録されたどの位置に近いかを判定する"
   ]
  },
  {
   "cell_type": "markdown",
   "metadata": {},
   "source": [
    "required sklearn, access-points\n",
    "\n",
    "```\n",
    "$ pip install access-points sklearn\n",
    "```\n",
    "\n",
    "もしくは\n",
    "\n",
    "```\n",
    "$ pip install -r requirements.txt\n",
    "```"
   ]
  },
  {
   "cell_type": "code",
   "execution_count": 1,
   "metadata": {
    "collapsed": false
   },
   "outputs": [],
   "source": [
    "import os, pickle, io, csv, json\n",
    "\n",
    "from sklearn.pipeline import make_pipeline\n",
    "from sklearn.ensemble import RandomForestClassifier\n",
    "from sklearn.feature_extraction import DictVectorizer\n",
    "from access_points import get_scanner"
   ]
  },
  {
   "cell_type": "markdown",
   "metadata": {},
   "source": [
    "### アクセスポイント(データセット)の取得関数"
   ]
  },
  {
   "cell_type": "code",
   "execution_count": 2,
   "metadata": {
    "collapsed": true
   },
   "outputs": [],
   "source": [
    "def scan_access_points(label='default place', size=1):\n",
    "    print('start scanning {} access points {} times.'.format(label, size))\n",
    "    X = []\n",
    "    y = []\n",
    "    wifi_scanner = get_scanner()\n",
    "    for index in range(int(size)):\n",
    "        print('scan ' + str(index))\n",
    "        access_points = wifi_scanner.get_access_points()\n",
    "        X.append({' '.join([ap.ssid, ap.bssid]): ap.quality for ap in access_points })\n",
    "        y.append(label)\n",
    "    return X, y"
   ]
  },
  {
   "cell_type": "markdown",
   "metadata": {},
   "source": [
    "データセットの中身"
   ]
  },
  {
   "cell_type": "code",
   "execution_count": 3,
   "metadata": {
    "collapsed": false,
    "scrolled": true
   },
   "outputs": [
    {
     "name": "stdout",
     "output_type": "stream",
     "text": [
      "start scanning default place access points 1 times.\n",
      "scan 0\n",
      "default place access points = {'30F772C78D8E-2G 30:f7:72:c7:8d:90': 116, 'aterm-935798-g c0:25:a2:9e:66:f3': 38, 'aterm-935798-a c0:25:a2:9e:66:f2': 28, '30F772C78D8E-5G 30:f7:72:c7:8d:91': 122, 'aterm-935798-gw c2:25:a2:9e:66:f3': 38, 'aterm-935798-aw c2:25:a2:9e:66:f2': 28}\n"
     ]
    }
   ],
   "source": [
    "X, y = scan_access_points()\n",
    "for Xi, yi in zip(X, y):\n",
    "    print('{} access points = {}'.format(yi, Xi))"
   ]
  },
  {
   "cell_type": "markdown",
   "metadata": {},
   "source": [
    "### モデルの定義\n",
    "\n",
    "ランダムフォレストを定義。\n",
    "DictVectorizerで、hash型のデータをいい感じに補完してもらう(ないkeyは0にするなど)"
   ]
  },
  {
   "cell_type": "code",
   "execution_count": 4,
   "metadata": {
    "collapsed": true
   },
   "outputs": [],
   "source": [
    "model = make_pipeline(\n",
    "    DictVectorizer(sparse=False),\n",
    "    RandomForestClassifier(n_estimators=500, class_weight='balanced')\n",
    ")"
   ]
  },
  {
   "cell_type": "markdown",
   "metadata": {},
   "source": [
    "### サンプリング(データ集め)"
   ]
  },
  {
   "cell_type": "code",
   "execution_count": 5,
   "metadata": {
    "collapsed": true
   },
   "outputs": [],
   "source": [
    "X = []\n",
    "y = []"
   ]
  },
  {
   "cell_type": "markdown",
   "metadata": {},
   "source": [
    "リビングに移動して下記を実行します。もしくはlabelを書き換えてください。"
   ]
  },
  {
   "cell_type": "code",
   "execution_count": 6,
   "metadata": {
    "collapsed": false
   },
   "outputs": [
    {
     "name": "stdout",
     "output_type": "stream",
     "text": [
      "start scanning living room access points 10 times.\n",
      "scan 0\n",
      "scan 1\n",
      "scan 2\n",
      "scan 3\n",
      "scan 4\n",
      "scan 5\n",
      "scan 6\n",
      "scan 7\n",
      "scan 8\n",
      "scan 9\n"
     ]
    }
   ],
   "source": [
    "_X, _y = scan_access_points(label='living room', size=10)\n",
    "X.extend(_X)\n",
    "y.extend(_y)"
   ]
  },
  {
   "cell_type": "markdown",
   "metadata": {},
   "source": [
    "寝室に移動して下記を実行します。もしくはlabelを書き換えてください。"
   ]
  },
  {
   "cell_type": "code",
   "execution_count": 7,
   "metadata": {
    "collapsed": false,
    "scrolled": true
   },
   "outputs": [
    {
     "name": "stdout",
     "output_type": "stream",
     "text": [
      "start scanning bedroom room access points 10 times.\n",
      "scan 0\n",
      "scan 1\n",
      "scan 2\n",
      "scan 3\n",
      "scan 4\n",
      "scan 5\n",
      "scan 6\n",
      "scan 7\n",
      "scan 8\n",
      "scan 9\n"
     ]
    }
   ],
   "source": [
    "_X, _y = scan_access_points(label='bedroom room', size=10)\n",
    "X.extend(_X)\n",
    "y.extend(_y)"
   ]
  },
  {
   "cell_type": "markdown",
   "metadata": {},
   "source": [
    "トイレに移動して下記を実行します。もしくはlabelを書き換えてください。"
   ]
  },
  {
   "cell_type": "code",
   "execution_count": 8,
   "metadata": {
    "collapsed": false,
    "scrolled": true
   },
   "outputs": [
    {
     "name": "stdout",
     "output_type": "stream",
     "text": [
      "start scanning toilet access points 10 times.\n",
      "scan 0\n",
      "scan 1\n",
      "scan 2\n",
      "scan 3\n",
      "scan 4\n",
      "scan 5\n",
      "scan 6\n",
      "scan 7\n",
      "scan 8\n",
      "scan 9\n"
     ]
    }
   ],
   "source": [
    "_X, _y = scan_access_points(label='toilet', size=10)\n",
    "X.extend(_X)\n",
    "y.extend(_y)"
   ]
  },
  {
   "cell_type": "markdown",
   "metadata": {},
   "source": [
    "キッチンに移動して下記を実行します。もしくはlabelを書き換えてください。"
   ]
  },
  {
   "cell_type": "code",
   "execution_count": 9,
   "metadata": {
    "collapsed": false,
    "scrolled": true
   },
   "outputs": [
    {
     "name": "stdout",
     "output_type": "stream",
     "text": [
      "start scanning kitchen access points 10 times.\n",
      "scan 0\n",
      "scan 1\n",
      "scan 2\n",
      "scan 3\n",
      "scan 4\n",
      "scan 5\n",
      "scan 6\n",
      "scan 7\n",
      "scan 8\n",
      "scan 9\n"
     ]
    }
   ],
   "source": [
    "_X, _y = scan_access_points(label='kitchen', size=10)\n",
    "X.extend(_X)\n",
    "y.extend(_y)"
   ]
  },
  {
   "cell_type": "markdown",
   "metadata": {},
   "source": [
    "### トレーニング実行"
   ]
  },
  {
   "cell_type": "code",
   "execution_count": 10,
   "metadata": {
    "collapsed": false
   },
   "outputs": [
    {
     "data": {
      "text/plain": [
       "Pipeline(steps=[('dictvectorizer', DictVectorizer(dtype=<class 'numpy.float64'>, separator='=', sort=True,\n",
       "        sparse=False)), ('randomforestclassifier', RandomForestClassifier(bootstrap=True, class_weight='balanced',\n",
       "            criterion='gini', max_depth=None, max_features='auto',\n",
       "            max_leaf...n_jobs=1,\n",
       "            oob_score=False, random_state=None, verbose=0,\n",
       "            warm_start=False))])"
      ]
     },
     "execution_count": 10,
     "metadata": {},
     "output_type": "execute_result"
    }
   ],
   "source": [
    "model.fit(X, y)"
   ]
  },
  {
   "cell_type": "markdown",
   "metadata": {},
   "source": [
    "### 登録されている場所"
   ]
  },
  {
   "cell_type": "code",
   "execution_count": 11,
   "metadata": {
    "collapsed": false
   },
   "outputs": [
    {
     "name": "stdout",
     "output_type": "stream",
     "text": [
      "['bedroom room' 'kitchen' 'living room' 'toilet']\n"
     ]
    }
   ],
   "source": [
    "place_names = model.classes_\n",
    "print(place_names)"
   ]
  },
  {
   "cell_type": "markdown",
   "metadata": {},
   "source": [
    "### 場所の推論\n",
    "\n",
    "登録されている場所に移動して実行します"
   ]
  },
  {
   "cell_type": "code",
   "execution_count": 12,
   "metadata": {
    "collapsed": false,
    "scrolled": true
   },
   "outputs": [
    {
     "name": "stdout",
     "output_type": "stream",
     "text": [
      "start scanning default place access points 1 times.\n",
      "scan 0\n",
      "living room\n"
     ]
    }
   ],
   "source": [
    "X, _ = scan_access_points(size=1)\n",
    "place_name = model.predict(X[0])[0]\n",
    "print(place_name)"
   ]
  },
  {
   "cell_type": "markdown",
   "metadata": {},
   "source": [
    "### 推論結果の割合\n",
    "\n",
    "登録されている場所に移動して実行します"
   ]
  },
  {
   "cell_type": "code",
   "execution_count": 13,
   "metadata": {
    "collapsed": false
   },
   "outputs": [
    {
     "name": "stdout",
     "output_type": "stream",
     "text": [
      "start scanning default place access points 1 times.\n",
      "scan 0\n",
      "{'kitchen': 0.34999999999999998, 'toilet': 0.014, 'living room': 0.44400000000000001, 'bedroom room': 0.192}\n"
     ]
    }
   ],
   "source": [
    "X, _ = scan_access_points(size=1)\n",
    "percentages = {x: y for x, y in zip(place_names, model.predict_proba(X[0])[0])}\n",
    "print(percentages)"
   ]
  },
  {
   "cell_type": "code",
   "execution_count": null,
   "metadata": {
    "collapsed": true
   },
   "outputs": [],
   "source": []
  }
 ],
 "metadata": {
  "anaconda-cloud": {},
  "kernelspec": {
   "display_name": "Python 3",
   "language": "python",
   "name": "python3"
  },
  "language_info": {
   "codemirror_mode": {
    "name": "ipython",
    "version": 3
   },
   "file_extension": ".py",
   "mimetype": "text/x-python",
   "name": "python",
   "nbconvert_exporter": "python",
   "pygments_lexer": "ipython3",
   "version": "3.5.1"
  }
 },
 "nbformat": 4,
 "nbformat_minor": 1
}
