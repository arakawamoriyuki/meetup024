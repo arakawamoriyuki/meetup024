{
 "cells": [
  {
   "cell_type": "markdown",
   "metadata": {},
   "source": [
    "# KMeans クラスタリング\n",
    "\n",
    "KMeansアルゴリズムを利用したクラスタリングのサンプル。\n",
    "教師なし学習とよばれる、教師データ(y)の答えラベルのないデータを分類する。\n",
    "\n",
    "[参考](https://tech-clips.com/article/421516)"
   ]
  },
  {
   "cell_type": "markdown",
   "metadata": {},
   "source": [
    "\n",
    "required sklearn, matplotlib\n",
    "\n",
    "```\n",
    "$ pip install sklearn, matplotlib\n",
    "```\n",
    "\n",
    "もしくは\n",
    "\n",
    "```\n",
    "$ pip install -r requirements.txt\n",
    "```"
   ]
  },
  {
   "cell_type": "code",
   "execution_count": 18,
   "metadata": {
    "collapsed": false
   },
   "outputs": [],
   "source": [
    "%matplotlib inline\n",
    "import pandas as pd\n",
    "import numpy as np\n",
    "import matplotlib.pyplot as plt\n",
    "from sklearn.cluster import KMeans"
   ]
  },
  {
   "cell_type": "markdown",
   "metadata": {},
   "source": [
    "### Wholesale customers Data Set (卸売業者の顧客データ)"
   ]
  },
  {
   "cell_type": "code",
   "execution_count": 19,
   "metadata": {
    "collapsed": true
   },
   "outputs": [],
   "source": [
    "cust_df = pd.read_csv(\"https://archive.ics.uci.edu/ml/machine-learning-databases/00292/Wholesale%20customers%20data.csv\")"
   ]
  },
  {
   "cell_type": "markdown",
   "metadata": {},
   "source": [
    "データセットの中身"
   ]
  },
  {
   "cell_type": "code",
   "execution_count": 20,
   "metadata": {
    "collapsed": false,
    "scrolled": true
   },
   "outputs": [
    {
     "name": "stdout",
     "output_type": "stream",
     "text": [
      "     Channel  Region  Fresh   Milk  Grocery  Frozen  Detergents_Paper  \\\n",
      "0          2       3  12669   9656     7561     214              2674   \n",
      "1          2       3   7057   9810     9568    1762              3293   \n",
      "2          2       3   6353   8808     7684    2405              3516   \n",
      "3          1       3  13265   1196     4221    6404               507   \n",
      "4          2       3  22615   5410     7198    3915              1777   \n",
      "5          2       3   9413   8259     5126     666              1795   \n",
      "6          2       3  12126   3199     6975     480              3140   \n",
      "7          2       3   7579   4956     9426    1669              3321   \n",
      "8          1       3   5963   3648     6192     425              1716   \n",
      "9          2       3   6006  11093    18881    1159              7425   \n",
      "10         2       3   3366   5403    12974    4400              5977   \n",
      "11         2       3  13146   1124     4523    1420               549   \n",
      "12         2       3  31714  12319    11757     287              3881   \n",
      "13         2       3  21217   6208    14982    3095              6707   \n",
      "14         2       3  24653   9465    12091     294              5058   \n",
      "15         1       3  10253   1114     3821     397               964   \n",
      "16         2       3   1020   8816    12121     134              4508   \n",
      "17         1       3   5876   6157     2933     839               370   \n",
      "18         2       3  18601   6327    10099    2205              2767   \n",
      "19         1       3   7780   2495     9464     669              2518   \n",
      "20         2       3  17546   4519     4602    1066              2259   \n",
      "21         1       3   5567    871     2010    3383               375   \n",
      "22         1       3  31276   1917     4469    9408              2381   \n",
      "23         2       3  26373  36423    22019    5154              4337   \n",
      "24         2       3  22647   9776    13792    2915              4482   \n",
      "25         2       3  16165   4230     7595     201              4003   \n",
      "26         1       3   9898    961     2861    3151               242   \n",
      "27         1       3  14276    803     3045     485               100   \n",
      "28         2       3   4113  20484    25957    1158              8604   \n",
      "29         1       3  43088   2100     2609    1200              1107   \n",
      "..       ...     ...    ...    ...      ...     ...               ...   \n",
      "410        1       3   6633   2096     4563    1389              1860   \n",
      "411        1       3   2126   3289     3281    1535               235   \n",
      "412        1       3     97   3605    12400      98              2970   \n",
      "413        1       3   4983   4859     6633   17866               912   \n",
      "414        1       3   5969   1990     3417    5679              1135   \n",
      "415        2       3   7842   6046     8552    1691              3540   \n",
      "416        2       3   4389  10940    10908     848              6728   \n",
      "417        1       3   5065   5499    11055     364              3485   \n",
      "418        2       3    660   8494    18622     133              6740   \n",
      "419        1       3   8861   3783     2223     633              1580   \n",
      "420        1       3   4456   5266    13227      25              6818   \n",
      "421        2       3  17063   4847     9053    1031              3415   \n",
      "422        1       3  26400   1377     4172     830               948   \n",
      "423        2       3  17565   3686     4657    1059              1803   \n",
      "424        2       3  16980   2884    12232     874              3213   \n",
      "425        1       3  11243   2408     2593   15348               108   \n",
      "426        1       3  13134   9347    14316    3141              5079   \n",
      "427        1       3  31012  16687     5429   15082               439   \n",
      "428        1       3   3047   5970     4910    2198               850   \n",
      "429        1       3   8607   1750     3580      47                84   \n",
      "430        1       3   3097   4230    16483     575               241   \n",
      "431        1       3   8533   5506     5160   13486              1377   \n",
      "432        1       3  21117   1162     4754     269              1328   \n",
      "433        1       3   1982   3218     1493    1541               356   \n",
      "434        1       3  16731   3922     7994     688              2371   \n",
      "435        1       3  29703  12051    16027   13135               182   \n",
      "436        1       3  39228   1431      764    4510                93   \n",
      "437        2       3  14531  15488    30243     437             14841   \n",
      "438        1       3  10290   1981     2232    1038               168   \n",
      "439        1       3   2787   1698     2510      65               477   \n",
      "\n",
      "     Delicassen  \n",
      "0          1338  \n",
      "1          1776  \n",
      "2          7844  \n",
      "3          1788  \n",
      "4          5185  \n",
      "5          1451  \n",
      "6           545  \n",
      "7          2566  \n",
      "8           750  \n",
      "9          2098  \n",
      "10         1744  \n",
      "11          497  \n",
      "12         2931  \n",
      "13          602  \n",
      "14         2168  \n",
      "15          412  \n",
      "16         1080  \n",
      "17         4478  \n",
      "18         3181  \n",
      "19          501  \n",
      "20         2124  \n",
      "21          569  \n",
      "22         4334  \n",
      "23        16523  \n",
      "24         5778  \n",
      "25           57  \n",
      "26          833  \n",
      "27          518  \n",
      "28         5206  \n",
      "29          823  \n",
      "..          ...  \n",
      "410        1892  \n",
      "411        4365  \n",
      "412          62  \n",
      "413        2435  \n",
      "414         290  \n",
      "415        1874  \n",
      "416         993  \n",
      "417        1063  \n",
      "418         776  \n",
      "419        1521  \n",
      "420        1393  \n",
      "421        1784  \n",
      "422        1218  \n",
      "423         668  \n",
      "424         249  \n",
      "425        1886  \n",
      "426        1894  \n",
      "427        1163  \n",
      "428         317  \n",
      "429        2501  \n",
      "430        2080  \n",
      "431        1498  \n",
      "432         395  \n",
      "433        1449  \n",
      "434         838  \n",
      "435        2204  \n",
      "436        2346  \n",
      "437        1867  \n",
      "438        2125  \n",
      "439          52  \n",
      "\n",
      "[440 rows x 8 columns]\n"
     ]
    }
   ],
   "source": [
    "print(cust_df)"
   ]
  },
  {
   "cell_type": "markdown",
   "metadata": {},
   "source": [
    "### 必要なデータに絞る"
   ]
  },
  {
   "cell_type": "code",
   "execution_count": 21,
   "metadata": {
    "collapsed": false
   },
   "outputs": [
    {
     "name": "stdout",
     "output_type": "stream",
     "text": [
      "[[12669  9656  7561 ...,  9656  2674  1338]\n",
      " [ 7057  9810  9568 ...,  9810  3293  1776]\n",
      " [ 6353  8808  7684 ...,  8808  3516  7844]\n",
      " ..., \n",
      " [14531 15488 30243 ..., 15488 14841  1867]\n",
      " [10290  1981  2232 ...,  1981   168  2125]\n",
      " [ 2787  1698  2510 ...,  1698   477    52]]\n"
     ]
    }
   ],
   "source": [
    "del(cust_df['Channel'])\n",
    "del(cust_df['Region'])\n",
    "cust_array = np.array([\n",
    "    cust_df['Fresh'].tolist(),\n",
    "    cust_df['Milk'].tolist(),\n",
    "    cust_df['Grocery'].tolist(),\n",
    "    cust_df['Frozen'].tolist(),\n",
    "    cust_df['Milk'].tolist(),\n",
    "    cust_df['Detergents_Paper'].tolist(),\n",
    "    cust_df['Delicassen'].tolist()\n",
    "], np.int32)\n",
    "cust_array = cust_array.T\n",
    "\n",
    "print(cust_array)"
   ]
  },
  {
   "cell_type": "markdown",
   "metadata": {},
   "source": [
    "### クラスタリング\n",
    "\n",
    "n_clustersでいくつに分類するかを指定する。\n",
    "その分類数に応じて機械学習で分類を行う。\n",
    "なお、その分類されたデータの特性などは人間が調べる必要がある。"
   ]
  },
  {
   "cell_type": "code",
   "execution_count": 22,
   "metadata": {
    "collapsed": true
   },
   "outputs": [],
   "source": [
    "pred = KMeans(n_clusters=4).fit_predict(cust_array)"
   ]
  },
  {
   "cell_type": "markdown",
   "metadata": {},
   "source": [
    "読み込んだcsvデータにcluster_id列を追加する"
   ]
  },
  {
   "cell_type": "code",
   "execution_count": 23,
   "metadata": {
    "collapsed": false
   },
   "outputs": [],
   "source": [
    "cust_df['cluster_id'] = pred"
   ]
  },
  {
   "cell_type": "markdown",
   "metadata": {},
   "source": [
    "### 各クラスタに属するサンプル数の分布を調べる"
   ]
  },
  {
   "cell_type": "code",
   "execution_count": 24,
   "metadata": {
    "collapsed": false
   },
   "outputs": [
    {
     "name": "stdout",
     "output_type": "stream",
     "text": [
      "0    280\n",
      "3     77\n",
      "1     76\n",
      "2      7\n",
      "Name: cluster_id, dtype: int64\n"
     ]
    }
   ],
   "source": [
    "value_counts = cust_df['cluster_id'].value_counts()\n",
    "print(value_counts)"
   ]
  },
  {
   "cell_type": "markdown",
   "metadata": {},
   "source": [
    "### cluster_id=0のクラスタに紐づく各部門商品の購買額の平均値"
   ]
  },
  {
   "cell_type": "code",
   "execution_count": 25,
   "metadata": {
    "collapsed": false,
    "scrolled": false
   },
   "outputs": [
    {
     "name": "stdout",
     "output_type": "stream",
     "text": [
      "Fresh               7926.889286\n",
      "Milk                3202.346429\n",
      "Grocery             4351.989286\n",
      "Frozen              2660.746429\n",
      "Detergents_Paper    1318.103571\n",
      "Delicassen          1035.278571\n",
      "cluster_id             0.000000\n",
      "dtype: float64\n"
     ]
    }
   ],
   "source": [
    "mean0 = cust_df[cust_df['cluster_id']==0].mean()\n",
    "print(mean0)"
   ]
  },
  {
   "cell_type": "markdown",
   "metadata": {},
   "source": [
    "### cluster_id=1のクラスタに紐づく各部門商品の購買額の平均値"
   ]
  },
  {
   "cell_type": "code",
   "execution_count": 26,
   "metadata": {
    "collapsed": false,
    "scrolled": true
   },
   "outputs": [
    {
     "name": "stdout",
     "output_type": "stream",
     "text": [
      "Fresh               31363.868421\n",
      "Milk                 4479.921053\n",
      "Grocery              5863.052632\n",
      "Frozen               5329.973684\n",
      "Detergents_Paper     1117.434211\n",
      "Delicassen           2128.342105\n",
      "cluster_id              1.000000\n",
      "dtype: float64\n"
     ]
    }
   ],
   "source": [
    "mean1 = cust_df[cust_df['cluster_id']==1].mean()\n",
    "print(mean1)"
   ]
  },
  {
   "cell_type": "markdown",
   "metadata": {},
   "source": [
    "### cluster_id=2のクラスタに紐づく各部門商品の購買額の平均値"
   ]
  },
  {
   "cell_type": "code",
   "execution_count": 27,
   "metadata": {
    "collapsed": false,
    "scrolled": true
   },
   "outputs": [
    {
     "name": "stdout",
     "output_type": "stream",
     "text": [
      "Fresh               42117.285714\n",
      "Milk                46046.142857\n",
      "Grocery             42914.285714\n",
      "Frozen              10211.714286\n",
      "Detergents_Paper    17327.571429\n",
      "Delicassen          12192.142857\n",
      "cluster_id              2.000000\n",
      "dtype: float64\n"
     ]
    }
   ],
   "source": [
    "mean2 = cust_df[cust_df['cluster_id']==2].mean()\n",
    "print(mean2)"
   ]
  },
  {
   "cell_type": "markdown",
   "metadata": {},
   "source": [
    "### cluster_id=3のクラスタに紐づく各部門商品の購買額の平均値"
   ]
  },
  {
   "cell_type": "code",
   "execution_count": 28,
   "metadata": {
    "collapsed": false,
    "scrolled": true
   },
   "outputs": [
    {
     "name": "stdout",
     "output_type": "stream",
     "text": [
      "Fresh                4962.688312\n",
      "Milk                12868.870130\n",
      "Grocery             19922.246753\n",
      "Frozen               1689.363636\n",
      "Detergents_Paper     8994.415584\n",
      "Delicassen           1739.818182\n",
      "cluster_id              3.000000\n",
      "dtype: float64\n"
     ]
    }
   ],
   "source": [
    "mean3 = cust_df[cust_df['cluster_id']==3].mean()\n",
    "print(mean3)"
   ]
  },
  {
   "cell_type": "markdown",
   "metadata": {},
   "source": [
    "### 可視化"
   ]
  },
  {
   "cell_type": "code",
   "execution_count": 29,
   "metadata": {
    "collapsed": false
   },
   "outputs": [
    {
     "data": {
      "text/plain": [
       "[<matplotlib.text.Text at 0x105b8d898>,\n",
       " <matplotlib.text.Text at 0x105b8abe0>,\n",
       " <matplotlib.text.Text at 0x11923ddd8>,\n",
       " <matplotlib.text.Text at 0x119287550>]"
      ]
     },
     "execution_count": 29,
     "metadata": {},
     "output_type": "execute_result"
    },
    {
     "data": {
      "image/png": "[encoded data removed]",
      "text/plain": [
       "<matplotlib.figure.Figure at 0x119269160>"
      ]
     },
     "metadata": {},
     "output_type": "display_data"
    }
   ],
   "source": [
    "clusterinfo = pd.DataFrame()\n",
    "for i in range(4):\n",
    "    clusterinfo['cluster' + str(i)] = cust_df[cust_df['cluster_id'] == i].mean()\n",
    "clusterinfo = clusterinfo.drop('cluster_id')\n",
    "my_plot = clusterinfo.T.plot(kind='bar', stacked=True, title=\"Mean Value of 4 Clusters\")\n",
    "my_plot.set_xticklabels(my_plot.xaxis.get_majorticklabels(), rotation=0)"
   ]
  },
  {
   "cell_type": "markdown",
   "metadata": {},
   "source": [
    "### 考察"
   ]
  },
  {
   "cell_type": "markdown",
   "metadata": {
    "collapsed": false
   },
   "source": [
    "- クラスター番号 = 0 に分類された顧客(293人)は、全体的に購買額が低い傾向にあります。\n",
    "- クラスター番号 = 1 に分類された顧客(63人)は、Fresh(生鮮食品)の購買額が比較的高いことがわかります。\n",
    "- クラスター番号 = 2 に分類された顧客(77人)は、Grocery(食料雑貨品)とDetergents_Paper(衛生用品と紙類)の購買額が比較的高いことがわかります。\n",
    "- クラスター番号 = 3 に分類された顧客(7人)は、全てのジャンルで購買額が高いと言えます。"
   ]
  }
 ],
 "metadata": {
  "anaconda-cloud": {},
  "kernelspec": {
   "display_name": "Python 3",
   "language": "python",
   "name": "python3"
  },
  "language_info": {
   "codemirror_mode": {
    "name": "ipython",
    "version": 3
   },
   "file_extension": ".py",
   "mimetype": "text/x-python",
   "name": "python",
   "nbconvert_exporter": "python",
   "pygments_lexer": "ipython3",
   "version": "3.5.1"
  }
 },
 "nbformat": 4,
 "nbformat_minor": 1
}
