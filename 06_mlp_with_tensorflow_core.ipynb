{
 "cells": [
  {
   "cell_type": "markdown",
   "metadata": {},
   "source": [
    "# TensorFlow Coreで多層パーセプトロン\n",
    "\n",
    "参考資料\n",
    "\n",
    "- https://github.com/aymericdamien/TensorFlow-Examples/blob/master/notebooks/4_Utils/tensorboard_basic.ipynb"
   ]
  },
  {
   "cell_type": "code",
   "execution_count": 1,
   "metadata": {
    "collapsed": true
   },
   "outputs": [],
   "source": [
    "%matplotlib inline\n",
    "import matplotlib.pyplot as plt\n",
    "import numpy as np"
   ]
  },
  {
   "cell_type": "code",
   "execution_count": 2,
   "metadata": {
    "collapsed": true
   },
   "outputs": [],
   "source": [
    "# TensorFlowの読み込み\n",
    "import tensorflow as tf"
   ]
  },
  {
   "cell_type": "code",
   "execution_count": 3,
   "metadata": {
    "collapsed": false
   },
   "outputs": [],
   "source": [
    "# graphs02ディレクトリがあったら削除\n",
    "if tf.gfile.Exists('./graphs02'):\n",
    "    tf.gfile.DeleteRecursively('./graphs02/')"
   ]
  },
  {
   "cell_type": "code",
   "execution_count": 4,
   "metadata": {
    "collapsed": false,
    "scrolled": true
   },
   "outputs": [
    {
     "name": "stdout",
     "output_type": "stream",
     "text": [
      "Successfully downloaded train-images-idx3-ubyte.gz 9912422 bytes.\n",
      "Extracting ../datasets/mnist/train-images-idx3-ubyte.gz\n",
      "Successfully downloaded train-labels-idx1-ubyte.gz 28881 bytes.\n",
      "Extracting ../datasets/mnist/train-labels-idx1-ubyte.gz\n",
      "Successfully downloaded t10k-images-idx3-ubyte.gz 1648877 bytes.\n",
      "Extracting ../datasets/mnist/t10k-images-idx3-ubyte.gz\n",
      "Successfully downloaded t10k-labels-idx1-ubyte.gz 4542 bytes.\n",
      "Extracting ../datasets/mnist/t10k-labels-idx1-ubyte.gz\n"
     ]
    }
   ],
   "source": [
    "# MNIST データセットの読み込み\n",
    "from tensorflow.examples.tutorials.mnist import input_data\n",
    "mnist = input_data.read_data_sets('../datasets/mnist/', one_hot=True)"
   ]
  },
  {
   "cell_type": "code",
   "execution_count": 5,
   "metadata": {
    "collapsed": false
   },
   "outputs": [
    {
     "name": "stdout",
     "output_type": "stream",
     "text": [
      "(55000, 784)\n",
      "(5000, 784)\n",
      "(10000, 784)\n"
     ]
    }
   ],
   "source": [
    "print(mnist.train.images.shape)\n",
    "print(mnist.validation.images.shape)\n",
    "print(mnist.test.images.shape)"
   ]
  },
  {
   "cell_type": "code",
   "execution_count": 6,
   "metadata": {
    "collapsed": false
   },
   "outputs": [
    {
     "name": "stdout",
     "output_type": "stream",
     "text": [
      "(55000, 10)\n",
      "(5000, 10)\n",
      "(10000, 10)\n"
     ]
    }
   ],
   "source": [
    "print(mnist.train.labels.shape)\n",
    "print(mnist.validation.labels.shape)\n",
    "print(mnist.test.labels.shape)"
   ]
  },
  {
   "cell_type": "code",
   "execution_count": 7,
   "metadata": {
    "collapsed": false
   },
   "outputs": [
    {
     "name": "stdout",
     "output_type": "stream",
     "text": [
      "[7 3 4 6 1 8 1 0 9 8]\n"
     ]
    },
    {
     "data": {
      "image/png": "[encoded data removed]",
      "text/plain": [
       "<matplotlib.figure.Figure at 0x124a10048>"
      ]
     },
     "metadata": {},
     "output_type": "display_data"
    }
   ],
   "source": [
    "# 画像とラベルを確認\n",
    "fig, ax = plt.subplots(1, 10)\n",
    "for ii in range(10):\n",
    "    ax[ii].imshow(mnist.train.images[ii].reshape([28, 28]), 'gray')\n",
    "    ax[ii].axis('off')\n",
    "    \n",
    "print(np.argmax(mnist.train.labels[:10], axis=1))"
   ]
  },
  {
   "cell_type": "code",
   "execution_count": 8,
   "metadata": {
    "collapsed": true
   },
   "outputs": [],
   "source": [
    "# ハイパーパラメータ\n",
    "learning_rate = 0.01\n",
    "training_epochs = 150\n",
    "batch_size = 100\n",
    "display_step = 1  # エポック\n",
    "logdir = './graphs02'"
   ]
  },
  {
   "cell_type": "code",
   "execution_count": 9,
   "metadata": {
    "collapsed": true
   },
   "outputs": [],
   "source": [
    "x = tf.placeholder(tf.float32, [None, 784], name='InputData')"
   ]
  },
  {
   "cell_type": "code",
   "execution_count": 10,
   "metadata": {
    "collapsed": true
   },
   "outputs": [],
   "source": [
    "y = tf.placeholder(tf.float32, [None, 10], name='LabelData')"
   ]
  },
  {
   "cell_type": "code",
   "execution_count": 11,
   "metadata": {
    "collapsed": false
   },
   "outputs": [],
   "source": [
    "# パラメータ\n",
    "W = tf.Variable(tf.zeros([784, 10]), name='Weights')\n",
    "b =  tf.Variable(tf.zeros([10]), name='Bias')"
   ]
  },
  {
   "cell_type": "markdown",
   "metadata": {},
   "source": [
    "TensorBoardでみやすくなるようスコープに入れていく"
   ]
  },
  {
   "cell_type": "code",
   "execution_count": 12,
   "metadata": {
    "collapsed": false
   },
   "outputs": [],
   "source": [
    "# Model\n",
    "#with tf.name_scope('Model'):\n",
    "logit = tf.matmul(x, W) + b\n",
    "pred = tf.nn.softmax(logit)\n",
    "\n",
    "#with tf.name_scope('Loss'):\n",
    "# 数値的に不安定な実装なので要注意\n",
    "loss = tf.reduce_mean(- tf.reduce_sum(y * tf.log(pred), reduction_indices=1))\n",
    "# 数値的に安定な実装\n",
    "#loss = tf.reduce_mean(tf.nn.softmax_cross_entropy_with_logits(labels=y, logits=logit))\n",
    "\n",
    "#with tf.name_scope('SGD'):\n",
    "optimizer = tf.train.GradientDescentOptimizer(learning_rate)\n",
    "train_op = optimizer.minimize(loss)\n",
    "\n",
    "#with tf.name_scope('Accuracy'):\n",
    "accuracy = tf.equal(tf.argmax(pred, 1), tf.argmax(y, 1))\n",
    "accuracy = tf.reduce_mean(tf.cast(accuracy, tf.float32))"
   ]
  },
  {
   "cell_type": "code",
   "execution_count": 13,
   "metadata": {
    "collapsed": true
   },
   "outputs": [],
   "source": [
    "# 変数の初期化\n",
    "init = tf.global_variables_initializer()"
   ]
  },
  {
   "cell_type": "code",
   "execution_count": 14,
   "metadata": {
    "collapsed": true
   },
   "outputs": [],
   "source": [
    "tf.summary.scalar('loss', loss)\n",
    "tf.summary.scalar('accuracy', accuracy)\n",
    "summary_op = tf.summary.merge_all()"
   ]
  },
  {
   "cell_type": "markdown",
   "metadata": {},
   "source": [
    "tensorboardを立ち上げるには以下のコードを打つ\n",
    "\n",
    "```\n",
    "tensorboard --logdir='./graphs02' --port=6006\n",
    "```"
   ]
  },
  {
   "cell_type": "code",
   "execution_count": 15,
   "metadata": {
    "collapsed": false,
    "scrolled": false
   },
   "outputs": [
    {
     "name": "stdout",
     "output_type": "stream",
     "text": [
      "Epoch: 0001\tloss=1.183409788\n",
      "Epoch: 0002\tloss=0.664995495\n",
      "Epoch: 0003\tloss=0.552615560\n",
      "Epoch: 0004\tloss=0.498578957\n",
      "Epoch: 0005\tloss=0.465489370\n",
      "Epoch: 0006\tloss=0.442536707\n",
      "Epoch: 0007\tloss=0.425493833\n",
      "Epoch: 0008\tloss=0.412156212\n",
      "Epoch: 0009\tloss=0.401333432\n",
      "Epoch: 0010\tloss=0.392394326\n",
      "Epoch: 0011\tloss=0.384756775\n",
      "Epoch: 0012\tloss=0.378210272\n",
      "Epoch: 0013\tloss=0.372383532\n",
      "Epoch: 0014\tloss=0.367303779\n",
      "Epoch: 0015\tloss=0.362699974\n",
      "Epoch: 0016\tloss=0.358551035\n",
      "Epoch: 0017\tloss=0.354876478\n",
      "Epoch: 0018\tloss=0.351449799\n",
      "Epoch: 0019\tloss=0.348308506\n",
      "Epoch: 0020\tloss=0.345436832\n",
      "Epoch: 0021\tloss=0.342737799\n",
      "Epoch: 0022\tloss=0.340235049\n",
      "Epoch: 0023\tloss=0.337912788\n",
      "Epoch: 0024\tloss=0.335688573\n",
      "Epoch: 0025\tloss=0.333609294\n",
      "Epoch: 0026\tloss=0.331787237\n",
      "Epoch: 0027\tloss=0.329947388\n",
      "Epoch: 0028\tloss=0.328229609\n",
      "Epoch: 0029\tloss=0.326601887\n",
      "Epoch: 0030\tloss=0.325061481\n",
      "Epoch: 0031\tloss=0.323592124\n",
      "Epoch: 0032\tloss=0.322125017\n",
      "Epoch: 0033\tloss=0.320808485\n",
      "Epoch: 0034\tloss=0.319512220\n",
      "Epoch: 0035\tloss=0.318328226\n",
      "Epoch: 0036\tloss=0.317105841\n",
      "Epoch: 0037\tloss=0.315976388\n",
      "Epoch: 0038\tloss=0.314902909\n",
      "Epoch: 0039\tloss=0.313864408\n",
      "Epoch: 0040\tloss=0.312858640\n",
      "Epoch: 0041\tloss=0.311902636\n",
      "Epoch: 0042\tloss=0.310931109\n",
      "Epoch: 0043\tloss=0.310021337\n",
      "Epoch: 0044\tloss=0.309167000\n",
      "Epoch: 0045\tloss=0.308319522\n",
      "Epoch: 0046\tloss=0.307478823\n",
      "Epoch: 0047\tloss=0.306738491\n",
      "Epoch: 0048\tloss=0.305920657\n",
      "Epoch: 0049\tloss=0.305174084\n",
      "Epoch: 0050\tloss=0.304496469\n",
      "Epoch: 0051\tloss=0.303763741\n",
      "Epoch: 0052\tloss=0.303102923\n",
      "Epoch: 0053\tloss=0.302446980\n",
      "Epoch: 0054\tloss=0.301792336\n",
      "Epoch: 0055\tloss=0.301166974\n",
      "Epoch: 0056\tloss=0.300528809\n",
      "Epoch: 0057\tloss=0.299989830\n",
      "Epoch: 0058\tloss=0.299395788\n",
      "Epoch: 0059\tloss=0.298800382\n",
      "Epoch: 0060\tloss=0.298224142\n",
      "Epoch: 0061\tloss=0.297687535\n",
      "Epoch: 0062\tloss=0.297183529\n",
      "Epoch: 0063\tloss=0.296671164\n",
      "Epoch: 0064\tloss=0.296143161\n",
      "Epoch: 0065\tloss=0.295676750\n",
      "Epoch: 0066\tloss=0.295198612\n",
      "Epoch: 0067\tloss=0.294731166\n",
      "Epoch: 0068\tloss=0.294241957\n",
      "Epoch: 0069\tloss=0.293799029\n",
      "Epoch: 0070\tloss=0.293330308\n",
      "Epoch: 0071\tloss=0.292943184\n",
      "Epoch: 0072\tloss=0.292510362\n",
      "Epoch: 0073\tloss=0.292073752\n",
      "Epoch: 0074\tloss=0.291668334\n",
      "Epoch: 0075\tloss=0.291273513\n",
      "Epoch: 0076\tloss=0.290902896\n",
      "Epoch: 0077\tloss=0.290526736\n",
      "Epoch: 0078\tloss=0.290142769\n",
      "Epoch: 0079\tloss=0.289769953\n",
      "Epoch: 0080\tloss=0.289391896\n",
      "Epoch: 0081\tloss=0.289042890\n",
      "Epoch: 0082\tloss=0.288688961\n",
      "Epoch: 0083\tloss=0.288333116\n",
      "Epoch: 0084\tloss=0.287975113\n",
      "Epoch: 0085\tloss=0.287659116\n",
      "Epoch: 0086\tloss=0.287343417\n",
      "Epoch: 0087\tloss=0.287004929\n",
      "Epoch: 0088\tloss=0.286696656\n",
      "Epoch: 0089\tloss=0.286394937\n",
      "Epoch: 0090\tloss=0.286032521\n",
      "Epoch: 0091\tloss=0.285784305\n",
      "Epoch: 0092\tloss=0.285442320\n",
      "Epoch: 0093\tloss=0.285155036\n",
      "Epoch: 0094\tloss=0.284871966\n",
      "Epoch: 0095\tloss=0.284618939\n",
      "Epoch: 0096\tloss=0.284330175\n",
      "Epoch: 0097\tloss=0.284034647\n",
      "Epoch: 0098\tloss=0.283756155\n",
      "Epoch: 0099\tloss=0.283452341\n",
      "Epoch: 0100\tloss=0.283236738\n",
      "Epoch: 0101\tloss=0.282966306\n",
      "Epoch: 0102\tloss=0.282685788\n",
      "Epoch: 0103\tloss=0.282448681\n",
      "Epoch: 0104\tloss=0.282187632\n",
      "Epoch: 0105\tloss=0.281972968\n",
      "Epoch: 0106\tloss=0.281681564\n",
      "Epoch: 0107\tloss=0.281482377\n",
      "Epoch: 0108\tloss=0.281201127\n",
      "Epoch: 0109\tloss=0.281019025\n",
      "Epoch: 0110\tloss=0.280759126\n",
      "Epoch: 0111\tloss=0.280526239\n",
      "Epoch: 0112\tloss=0.280276654\n",
      "Epoch: 0113\tloss=0.280070695\n",
      "Epoch: 0114\tloss=0.279845023\n",
      "Epoch: 0115\tloss=0.279618723\n",
      "Epoch: 0116\tloss=0.279444497\n",
      "Epoch: 0117\tloss=0.279213919\n",
      "Epoch: 0118\tloss=0.278967843\n",
      "Epoch: 0119\tloss=0.278753648\n",
      "Epoch: 0120\tloss=0.278613835\n",
      "Epoch: 0121\tloss=0.278340328\n",
      "Epoch: 0122\tloss=0.278191007\n",
      "Epoch: 0123\tloss=0.277974586\n",
      "Epoch: 0124\tloss=0.277760205\n",
      "Epoch: 0125\tloss=0.277572658\n",
      "Epoch: 0126\tloss=0.277380315\n",
      "Epoch: 0127\tloss=0.277163677\n",
      "Epoch: 0128\tloss=0.277043809\n",
      "Epoch: 0129\tloss=0.276840233\n",
      "Epoch: 0130\tloss=0.276591606\n",
      "Epoch: 0131\tloss=0.276459099\n",
      "Epoch: 0132\tloss=0.276273833\n",
      "Epoch: 0133\tloss=0.276084155\n",
      "Epoch: 0134\tloss=0.275920965\n",
      "Epoch: 0135\tloss=0.275754005\n",
      "Epoch: 0136\tloss=0.275569838\n",
      "Epoch: 0137\tloss=0.275408052\n",
      "Epoch: 0138\tloss=0.275224384\n",
      "Epoch: 0139\tloss=0.275087507\n",
      "Epoch: 0140\tloss=0.274877455\n",
      "Epoch: 0141\tloss=0.274746140\n",
      "Epoch: 0142\tloss=0.274579546\n",
      "Epoch: 0143\tloss=0.274415551\n",
      "Epoch: 0144\tloss=0.274249402\n",
      "Epoch: 0145\tloss=0.274095260\n",
      "Epoch: 0146\tloss=0.273949389\n",
      "Epoch: 0147\tloss=0.273781400\n",
      "Epoch: 0148\tloss=0.273623386\n",
      "Epoch: 0149\tloss=0.273479539\n",
      "Epoch: 0150\tloss=0.273332215\n"
     ]
    }
   ],
   "source": [
    "with tf.Session() as sess:\n",
    "    sess.run(init)\n",
    "    \n",
    "    # ログのTensorBoardへの書き出し\n",
    "    summary_writer = tf.summary.FileWriter(logdir, graph=tf.get_default_graph())\n",
    "    \n",
    "    #　学習\n",
    "    for epoch in range(training_epochs):\n",
    "        \n",
    "        average_loss = 0.\n",
    "        total_batch = int(mnist.train.num_examples / batch_size)\n",
    "        \n",
    "        for i in range(total_batch):\n",
    "            \n",
    "            # ミニバッチを取得\n",
    "            batch_xs, batch_ys = mnist.train.next_batch(batch_size)\n",
    "            \n",
    "            # 計算グラフを実行\n",
    "            _, loss_value, summary = sess.run([train_op, loss, summary_op],\n",
    "                                             feed_dict={x: batch_xs, y: batch_ys})\n",
    "            \n",
    "            #  ステップごとにログを書き出す\n",
    "            summary_writer.add_summary(summary, epoch * total_batch + i)\n",
    "            \n",
    "            # 平均損失を計算\n",
    "            average_loss += loss_value / total_batch\n",
    "            \n",
    "        # エポックの平均損失を時々表示\n",
    "        if (epoch + 1) % display_step == 0:\n",
    "            print(\"Epoch: %04d\\tloss=%.9f\" % (epoch+1, average_loss))"
   ]
  }
 ],
 "metadata": {
  "kernelspec": {
   "display_name": "Python 3",
   "language": "python",
   "name": "python3"
  },
  "language_info": {
   "codemirror_mode": {
    "name": "ipython",
    "version": 3
   },
   "file_extension": ".py",
   "mimetype": "text/x-python",
   "name": "python",
   "nbconvert_exporter": "python",
   "pygments_lexer": "ipython3",
   "version": "3.5.3"
  }
 },
 "nbformat": 4,
 "nbformat_minor": 2
}
