{
 "cells": [
  {
   "cell_type": "markdown",
   "metadata": {
    "collapsed": true
   },
   "source": [
    "# 生pythonで線形回帰(多数の特徴)\n",
    "\n",
    "```\n",
    "家を売った際の値段を予測する為\n",
    "広さ(x1)と部屋数(x2)から売値(y)を予測する\n",
    "```"
   ]
  },
  {
   "cell_type": "code",
   "execution_count": 1,
   "metadata": {
    "collapsed": true
   },
   "outputs": [],
   "source": [
    "%matplotlib inline\n",
    "import numpy as np\n",
    "from numpy.linalg import pinv\n",
    "from matplotlib import pyplot as plot"
   ]
  },
  {
   "cell_type": "markdown",
   "metadata": {
    "collapsed": true
   },
   "source": [
    "### 予測の悪さを計算する関数\n",
    "\n",
    "```\n",
    "X = 広さと部屋数の2次元配列\n",
    "y = 利益の1次元配列\n",
    "thetaは y = ax + b のaとb\n",
    "aとbはこのcompute_cost関数(予測の悪さを計算する関数)のフィードバックを受けて修正し\n",
    "(学習するたびだんだんと)勝手に調整してくれる\n",
    "```"
   ]
  },
  {
   "cell_type": "code",
   "execution_count": 2,
   "metadata": {
    "collapsed": true
   },
   "outputs": [],
   "source": [
    "def compute_cost(X, y, theta):\n",
    "    m = y.size\n",
    "    costs = (X.dot(theta) - y) ** 2\n",
    "    return costs.sum() / (2.0 * m)"
   ]
  },
  {
   "cell_type": "markdown",
   "metadata": {
    "collapsed": true
   },
   "source": [
    "### 最急降下法\n",
    "\n",
    "cost関数のフィードバックを受けて1次関数のaとbを修正する関数\n",
    "要は学習を行う関数。\n",
    "いろいろあるが、この例は最急降下法(gradient descent)というアルゴリズムを利用\n",
    "\n",
    "alphaは学習率\n",
    "学習率は高いと学習速度が早いが、発散と呼ばれるいきなり全く的外れな予測しかしないようになる。\n",
    "学習率は高いと学習速度が遅い\n",
    "\n",
    "学習率のような自分で調整しないといけないパラメータをハイパーパラメータという"
   ]
  },
  {
   "cell_type": "code",
   "execution_count": 3,
   "metadata": {
    "collapsed": true
   },
   "outputs": [],
   "source": [
    "def gradient_descent(X, y, theta, alpha, num_iters):\n",
    "    m = y.size\n",
    "    J_history = np.zeros(num_iters)\n",
    "    for i in range(num_iters):\n",
    "        h = X.dot(theta)\n",
    "        errors = h - y\n",
    "        delta = X.T.dot(errors)\n",
    "        theta -= (alpha / m) * delta\n",
    "        J_history[i] = compute_cost(X, y, theta)\n",
    "    return (theta, J_history)"
   ]
  },
  {
   "cell_type": "markdown",
   "metadata": {
    "collapsed": true
   },
   "source": [
    "### フィーチャースケーリング(feature scaling)と平均正則化(mean normalization)\n",
    "\n",
    "#### フィーチャースケーリング\n",
    "\n",
    "複数の特徴を最急降下法で分析する場合、それぞれの値の単位を調整すると収束しやすくなる。\n",
    "例えば、ctrやimp,clickなど。ctrは1以下の値でclickは大きい数、またimpはそれより100倍近く大きい。\n",
    "だいたいこれぐらいという値で各特徴を割って同じ範囲にする手法。\n",
    "だいたい-1以上1以下にする。\n",
    "\n",
    "#### 平均正則化\n",
    "\n",
    "だいたい2000の家の広さなら、\n",
    "サイズに-2000して0へ平均化し、-1000で割ってフューチャースケーリングする。\n",
    "標準偏差を設定してもいい\n",
    "ある程度スケーリングしたら大幅に収束しやすくなるので、完全でなくていい。"
   ]
  },
  {
   "cell_type": "code",
   "execution_count": 4,
   "metadata": {
    "collapsed": true
   },
   "outputs": [],
   "source": [
    "def normalize_features(X, mu=None, sigma=None):\n",
    "    m = X.shape[0]\n",
    "    Xnorm = np.zeros_like(X)\n",
    "    if mu is None:\n",
    "        mu = np.mean(X, axis=0)\n",
    "    if sigma is None:\n",
    "        sigma = np.std(X, axis=0, ddof=1)\n",
    "    # don't change the intercept term\n",
    "    mu[0] = 0.0\n",
    "    sigma[0] = 1.0\n",
    "    for i in range(m):\n",
    "        Xnorm[i, :] = (X[i, :] - mu) / sigma\n",
    "    return Xnorm, mu, sigma"
   ]
  },
  {
   "cell_type": "code",
   "execution_count": 5,
   "metadata": {
    "collapsed": false
   },
   "outputs": [],
   "source": [
    "# データのロード、変数の初期化\n",
    "data = np.loadtxt('./assets/data2.txt', delimiter=',')\n",
    "X = data[:, 0:2]\n",
    "y = data[:, 2]\n",
    "m = X.shape[0]\n",
    "X = np.concatenate((np.ones((m, 1)), X), axis=1)\n",
    "alpha = 0.01\n",
    "num_iters = 400\n",
    "theta = np.zeros(3)"
   ]
  },
  {
   "cell_type": "code",
   "execution_count": 6,
   "metadata": {
    "collapsed": false
   },
   "outputs": [],
   "source": [
    "# フィーチャースケーリング(feature scaling)と平均正則化(mean normalization)\n",
    "Xnorm, mu, sigma = normalize_features(X)"
   ]
  },
  {
   "cell_type": "code",
   "execution_count": 7,
   "metadata": {
    "collapsed": true
   },
   "outputs": [],
   "source": [
    "# 最急降下法\n",
    "[theta, J_history] = gradient_descent(Xnorm, y, theta, alpha, num_iters)"
   ]
  },
  {
   "cell_type": "code",
   "execution_count": 8,
   "metadata": {
    "collapsed": false
   },
   "outputs": [
    {
     "data": {
      "image/png": "[encoded data removed]",
      "text/plain": [
       "<matplotlib.figure.Figure at 0x10814e748>"
      ]
     },
     "metadata": {},
     "output_type": "display_data"
    }
   ],
   "source": [
    "# 収束の可視化\n",
    "plot.plot(J_history, '-b')\n",
    "plot.xlabel('Number of iterations')\n",
    "plot.ylabel('Cost J')\n",
    "plot.show()"
   ]
  },
  {
   "cell_type": "code",
   "execution_count": 9,
   "metadata": {
    "collapsed": false
   },
   "outputs": [
    {
     "name": "stdout",
     "output_type": "stream",
     "text": [
      "広さ1650で3部屋の家売値予測値は289314.6203377763です。\n"
     ]
    }
   ],
   "source": [
    "# 予測値の出力\n",
    "size = 1650\n",
    "rooms = 3\n",
    "x = np.array([[1.0, size, rooms]])\n",
    "x, _, _ = normalize_features(x, mu, sigma)\n",
    "price = x.dot(theta)[0]\n",
    "print(\"広さ{size}で{rooms}部屋の家売値予測値は{price}です。\".format(\n",
    "    size=size,\n",
    "    rooms=rooms,\n",
    "    price=price\n",
    "))"
   ]
  }
 ],
 "metadata": {
  "kernelspec": {
   "display_name": "Python 3",
   "language": "python",
   "name": "python3"
  },
  "language_info": {
   "codemirror_mode": {
    "name": "ipython",
    "version": 3
   },
   "file_extension": ".py",
   "mimetype": "text/x-python",
   "name": "python",
   "nbconvert_exporter": "python",
   "pygments_lexer": "ipython3",
   "version": "3.5.3"
  }
 },
 "nbformat": 4,
 "nbformat_minor": 0
}
