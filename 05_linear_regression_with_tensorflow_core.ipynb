{
 "cells": [
  {
   "cell_type": "markdown",
   "metadata": {},
   "source": [
    "# TensorFlow最初の一歩\n",
    "\n",
    "# TensorFlowで線形回帰モデル\n",
    "\n",
    "### 参考資料\n",
    "\n",
    "- [Getting Started With TensorFlow](https://www.tensorflow.org/get_started/get_started)"
   ]
  },
  {
   "cell_type": "code",
   "execution_count": 1,
   "metadata": {
    "collapsed": true
   },
   "outputs": [],
   "source": [
    "%matplotlib inline\n",
    "import matplotlib.pyplot as plt"
   ]
  },
  {
   "cell_type": "markdown",
   "metadata": {},
   "source": [
    "## TensorFlowのAPI\n",
    "\n",
    "TensorFlowにはレベルに応じた複数のAPIが存在\n",
    "\n",
    "- 低レベルAPI\n",
    "  - 自分でモデルを改良したい人向け\n",
    "  - TensorFlow Core　←　**今回はこっち**\n",
    "- 高レベルAPI\n",
    "  - 既存のモデルを素早く試したい人向け\n",
    "  - tf.contrib.learn\n",
    "  - tf.contrib.slim\n",
    "  - tf.contrib.keras (it's coming)\n",
    "    - [tf-keras](https://github.com/fchollet/keras/tree/tf-keras)  on the Keras side\n",
    "    - [tf.contrib.keras](https://github.com/tensorflow/tensorflow/tree/master/tensorflow/contrib/keras) on the TensorFlow side\n",
    "    - [F. Cholletさんによるツイッター上でのコメント](https://twitter.com/fchollet/status/820746845068505088)\n",
    "\n",
    "\n",
    "\n",
    "contribとついているのはまだ開発中ということ"
   ]
  },
  {
   "cell_type": "markdown",
   "metadata": {},
   "source": [
    "## テンソル\n",
    "\n",
    "- テンソル（tensor）がTensorFlowで扱うデータ形式の基本\n",
    "- テンソルのランク（rank）＝テンソルの次元\n",
    "\n",
    "```\n",
    "3 # ランク 0 のテンソル。 シェイプが [] のスカラ\n",
    "[1. ,2., 3.] # ランク1のテンソル。シェイプが [3] のベクトル\n",
    "[[1., 2., 3.], [4., 5., 6.]] # ランク2のテンソル。シェイプが [2, 3] の行列\n",
    "[[[1., 2., 3.]], [[7., 8., 9.]]] # ランク3でシェイプが[2, 3]のテンソル\n",
    "```"
   ]
  },
  {
   "cell_type": "markdown",
   "metadata": {},
   "source": [
    "## TensorFlowのインポート"
   ]
  },
  {
   "cell_type": "code",
   "execution_count": 2,
   "metadata": {
    "collapsed": true
   },
   "outputs": [],
   "source": [
    "import tensorflow as tf"
   ]
  },
  {
   "cell_type": "markdown",
   "metadata": {},
   "source": [
    "## 計算グラフ\n",
    "\n",
    "計算グラフの裏にある思想\n",
    "- 重い計算は全てPythonの外側でやる\n",
    "\n",
    "Pythonの仕事\n",
    "  - 計算グラフを作ること\n",
    "  - どの部分の計算グラフを実行するか決めること\n",
    "\n",
    "２つのステップ\n",
    "\n",
    "- ステップ１：計算グラフの構築\n",
    "- ステップ２：計算グラフの実行\n",
    "\n",
    "計算グラフとは？\n",
    "\n",
    "- 計算グラフとは計算の手順を表した「ノード」のあつまり\n",
    "\n",
    "ノード\n",
    "\n",
    "- ノードは0以上のテンソルを入力として受け取り、1つのテンソルを出力する。\n",
    "- 例： constantノード\n",
    "- ノードを評価して値を得るためには、セッション中で計算グラフを実行しなくてはいけない"
   ]
  },
  {
   "cell_type": "markdown",
   "metadata": {},
   "source": [
    "## 計算グラフの構築"
   ]
  },
  {
   "cell_type": "markdown",
   "metadata": {},
   "source": [
    "テンソルノード（`tf.Tensor`）に演算（Operation）を適用することで、より複雑な計算グラフを構築していく"
   ]
  },
  {
   "cell_type": "code",
   "execution_count": 3,
   "metadata": {
    "collapsed": false,
    "scrolled": false
   },
   "outputs": [
    {
     "name": "stdout",
     "output_type": "stream",
     "text": [
      "Tensor(\"Const:0\", shape=(), dtype=float32)\n",
      "Tensor(\"Const_1:0\", shape=(), dtype=float32)\n",
      "Tensor(\"Add:0\", shape=(), dtype=float32)\n"
     ]
    }
   ],
   "source": [
    "# 定数ノードを作成（node1とnode2）\n",
    "node1 = tf.constant(3.0, tf.float32)\n",
    "node2 = tf.constant(4.0, tf.float32)\n",
    "# 2つの定数ノードを足し合わせて、新しいノード（node3）を作成\n",
    "node3 = tf.add(node1, node2)\n",
    "\n",
    "print(node1)\n",
    "print(node2)\n",
    "print(node3)"
   ]
  },
  {
   "cell_type": "markdown",
   "metadata": {},
   "source": [
    "## 計算グラフの実行\n",
    "\n",
    "- sess = tf.Session()\n",
    "- sess = tf.InteractiveSession()\n",
    "- `sess.run(t)` と `t.eval()` はほぼ同じ。\n",
    "- `sess.run()`の場合は、`t.eval()`と違い、`sess.run([a, b, c])`とできる"
   ]
  },
  {
   "cell_type": "markdown",
   "metadata": {},
   "source": [
    "## TensorFlowのセッション: tf.Session()\n",
    "\n",
    "- TensorFlowはC++のバックエンドに繋いでから計算する。\n",
    "- このバックエンドとのコネクションはセッションと呼ばれる。\n",
    "- 通常は計算グラフを構築した後、セッション内で実行。"
   ]
  },
  {
   "cell_type": "code",
   "execution_count": 4,
   "metadata": {
    "collapsed": false
   },
   "outputs": [
    {
     "name": "stdout",
     "output_type": "stream",
     "text": [
      "<tensorflow.python.client.session.Session object at 0x119479ac8>\n",
      "----\n",
      "3.0\n",
      "3.0\n",
      "----\n",
      "4.0\n",
      "4.0\n",
      "----\n",
      "7.0\n",
      "7.0\n",
      "----\n",
      "[3.0, 4.0, 7.0]\n"
     ]
    }
   ],
   "source": [
    "# withを抜けるとセッションは自動的に閉じられる。\n",
    "with tf.Session() as sess:\n",
    "    \n",
    "    print(sess)\n",
    "    print('----')\n",
    "    \n",
    "    print(sess.run(node1))\n",
    "    print(node1.eval())\n",
    "    print('----')\n",
    "    \n",
    "    print(sess.run(node2))\n",
    "    print(node2.eval())\n",
    "    print('----')\n",
    "    \n",
    "    print(sess.run(node3))\n",
    "    print(node3.eval())\n",
    "    print('----')\n",
    "    \n",
    "    print(sess.run([node1, node2, node3]))"
   ]
  },
  {
   "cell_type": "code",
   "execution_count": 5,
   "metadata": {
    "collapsed": false
   },
   "outputs": [],
   "source": [
    "# withを抜けるとセッションが閉じられれているので以下のコードはエラーになる\n",
    "#sess.run(node1)  # エラー\n",
    "#node1.eval()  # エラー"
   ]
  },
  {
   "cell_type": "markdown",
   "metadata": {},
   "source": [
    "## TensorFlowのインタラクティブセッション:  tf.InteractiveSession()\n",
    "\n",
    "- インタラクティブなセッションというのも可能\n",
    "- IPythonやJupyter NotebookでTensorFlowを使う場合に便利\n",
    "- `sess.close()` で明示的に閉じる必要あり"
   ]
  },
  {
   "cell_type": "code",
   "execution_count": 6,
   "metadata": {
    "collapsed": false
   },
   "outputs": [
    {
     "name": "stdout",
     "output_type": "stream",
     "text": [
      "<tensorflow.python.client.session.InteractiveSession object at 0x119479cc0>\n"
     ]
    }
   ],
   "source": [
    "sess = tf.InteractiveSession()\n",
    "print(sess)"
   ]
  },
  {
   "cell_type": "code",
   "execution_count": 7,
   "metadata": {
    "collapsed": false
   },
   "outputs": [
    {
     "data": {
      "text/plain": [
       "7.0"
      ]
     },
     "execution_count": 7,
     "metadata": {},
     "output_type": "execute_result"
    }
   ],
   "source": [
    "sess.run(node3)"
   ]
  },
  {
   "cell_type": "code",
   "execution_count": 8,
   "metadata": {
    "collapsed": false
   },
   "outputs": [
    {
     "data": {
      "text/plain": [
       "7.0"
      ]
     },
     "execution_count": 8,
     "metadata": {},
     "output_type": "execute_result"
    }
   ],
   "source": [
    "node3.eval()"
   ]
  },
  {
   "cell_type": "code",
   "execution_count": 9,
   "metadata": {
    "collapsed": true
   },
   "outputs": [],
   "source": [
    "# セッションを閉じる\n",
    "sess.close()"
   ]
  },
  {
   "cell_type": "code",
   "execution_count": 10,
   "metadata": {
    "collapsed": false
   },
   "outputs": [],
   "source": [
    "#sess.run(node3)"
   ]
  },
  {
   "cell_type": "code",
   "execution_count": 11,
   "metadata": {
    "collapsed": true
   },
   "outputs": [],
   "source": [
    "sess = tf.InteractiveSession()"
   ]
  },
  {
   "cell_type": "code",
   "execution_count": 12,
   "metadata": {
    "collapsed": false
   },
   "outputs": [
    {
     "name": "stdout",
     "output_type": "stream",
     "text": [
      "<tensorflow.python.client.session.InteractiveSession object at 0x119454f60>\n",
      "----\n",
      "3.0\n",
      "3.0\n",
      "----\n",
      "4.0\n",
      "4.0\n",
      "----\n",
      "7.0\n",
      "7.0\n",
      "----\n",
      "[3.0, 4.0, 7.0]\n"
     ]
    }
   ],
   "source": [
    "print(sess)\n",
    "print('----')\n",
    "\n",
    "print(sess.run(node1))\n",
    "print(node1.eval())\n",
    "print('----')\n",
    "\n",
    "print(sess.run(node2))\n",
    "print(node2.eval())\n",
    "print('----')\n",
    "\n",
    "print(sess.run(node3))\n",
    "print(node3.eval())\n",
    "print('----')\n",
    "\n",
    "print(sess.run([node1, node2, node3]))"
   ]
  },
  {
   "cell_type": "markdown",
   "metadata": {},
   "source": [
    "feed_dictで評価時にテンソルの値を変更。placeholder以外でもテンソルなら何でも変更できる。"
   ]
  },
  {
   "cell_type": "code",
   "execution_count": 13,
   "metadata": {
    "collapsed": false,
    "scrolled": true
   },
   "outputs": [
    {
     "name": "stdout",
     "output_type": "stream",
     "text": [
      "[3.0, 4.0, 7.0]\n",
      "[array(10.0, dtype=float32), 4.0, 14.0]\n"
     ]
    }
   ],
   "source": [
    "print(sess.run([node1, node2, node3]))\n",
    "print(sess.run([node1, node2, node3], feed_dict={node1:10.0}))"
   ]
  },
  {
   "cell_type": "markdown",
   "metadata": {},
   "source": [
    "## 計算グラフの可視化"
   ]
  },
  {
   "cell_type": "markdown",
   "metadata": {},
   "source": [
    "## 方法１：計算グラフをテキストで可視化\n",
    "\n",
    "- `tf.get_default_graph().as_graph_def()`"
   ]
  },
  {
   "cell_type": "code",
   "execution_count": 14,
   "metadata": {
    "collapsed": false
   },
   "outputs": [
    {
     "data": {
      "text/plain": [
       "node {\n",
       "  name: \"Const\"\n",
       "  op: \"Const\"\n",
       "  attr {\n",
       "    key: \"dtype\"\n",
       "    value {\n",
       "      type: DT_FLOAT\n",
       "    }\n",
       "  }\n",
       "  attr {\n",
       "    key: \"value\"\n",
       "    value {\n",
       "      tensor {\n",
       "        dtype: DT_FLOAT\n",
       "        tensor_shape {\n",
       "        }\n",
       "        float_val: 3.0\n",
       "      }\n",
       "    }\n",
       "  }\n",
       "}\n",
       "node {\n",
       "  name: \"Const_1\"\n",
       "  op: \"Const\"\n",
       "  attr {\n",
       "    key: \"dtype\"\n",
       "    value {\n",
       "      type: DT_FLOAT\n",
       "    }\n",
       "  }\n",
       "  attr {\n",
       "    key: \"value\"\n",
       "    value {\n",
       "      tensor {\n",
       "        dtype: DT_FLOAT\n",
       "        tensor_shape {\n",
       "        }\n",
       "        float_val: 4.0\n",
       "      }\n",
       "    }\n",
       "  }\n",
       "}\n",
       "node {\n",
       "  name: \"Add\"\n",
       "  op: \"Add\"\n",
       "  input: \"Const\"\n",
       "  input: \"Const_1\"\n",
       "  attr {\n",
       "    key: \"T\"\n",
       "    value {\n",
       "      type: DT_FLOAT\n",
       "    }\n",
       "  }\n",
       "}\n",
       "versions {\n",
       "  producer: 21\n",
       "}"
      ]
     },
     "execution_count": 14,
     "metadata": {},
     "output_type": "execute_result"
    }
   ],
   "source": [
    "tf.get_default_graph().as_graph_def()"
   ]
  },
  {
   "cell_type": "markdown",
   "metadata": {},
   "source": [
    "## 方法２: TensorBoard"
   ]
  },
  {
   "cell_type": "code",
   "execution_count": 15,
   "metadata": {
    "collapsed": true
   },
   "outputs": [],
   "source": [
    "writer = tf.summary.FileWriter('./graphs01', sess.graph)  # イベントファイルを保存\n",
    "writer.close()"
   ]
  },
  {
   "cell_type": "markdown",
   "metadata": {},
   "source": [
    "ターミナルに以下のコードを打って、tensorboardを立ち上げる。\n",
    "\n",
    "```\n",
    "tensorboard --logdir=\"./graphs01\" --port 6006\n",
    "```\n",
    "\n",
    "ウエブブラウザで以下のアドレスに行き、tensorboardを見る。\n",
    "\n",
    "```\n",
    "localhost:6006\n",
    "```"
   ]
  },
  {
   "cell_type": "markdown",
   "metadata": {},
   "source": [
    "## 外部入力（`tf.placeholder`）\n",
    "\n",
    "```\n",
    "tf.placeholder(dtype, shape=None, name=None)\n",
    "```"
   ]
  },
  {
   "cell_type": "markdown",
   "metadata": {},
   "source": [
    "- このままだと同じ出力しか出てこないので面白くない...\n",
    "- 外部入力ほしい！\n",
    "- そんなときの placeholder (`tf.placeholder`)\n",
    "- placeholderで計算グラフに外部入力をつける（後でここに値入れますよと約束する）"
   ]
  },
  {
   "cell_type": "markdown",
   "metadata": {},
   "source": [
    "#### やってみよう\n",
    "a, bという２つの外部入力から得られた値を足し合わせる計算グラフを構築せよ。\n",
    "\n",
    "ヒント: `tf.placeholder`, `tf.add`"
   ]
  },
  {
   "cell_type": "code",
   "execution_count": 16,
   "metadata": {
    "collapsed": true
   },
   "outputs": [],
   "source": [
    "a = tf.placeholder(tf.float32)\n",
    "b = tf.placeholder(tf.float32)"
   ]
  },
  {
   "cell_type": "code",
   "execution_count": 17,
   "metadata": {
    "collapsed": true
   },
   "outputs": [],
   "source": [
    "adder_node = tf.add(a, b)  # a + b は tf.add(a, b) のショートカット"
   ]
  },
  {
   "cell_type": "markdown",
   "metadata": {},
   "source": [
    "- sess.run()の第二引数（`feed_dict`）を使い、計算グラフの外部入力（placeholder）に値を入れる。\n",
    "- feed_dictの中のキー`a` と`b`はテンソル\n",
    "- `shape=None`の問題\n",
    "  - 簡単だが、後々デバッグが大変になる\n",
    "  - 子ノードのshapeの自動推定ができなくなる\n",
    "- placeholderはops  "
   ]
  },
  {
   "cell_type": "code",
   "execution_count": 18,
   "metadata": {
    "collapsed": false,
    "scrolled": true
   },
   "outputs": [
    {
     "name": "stdout",
     "output_type": "stream",
     "text": [
      "7.5\n"
     ]
    }
   ],
   "source": [
    "# aに3.0, bに4.5という値を入れて評価\n",
    "print(sess.run(adder_node, feed_dict={a: 3, b: 4.5}))"
   ]
  },
  {
   "cell_type": "code",
   "execution_count": 19,
   "metadata": {
    "collapsed": false
   },
   "outputs": [
    {
     "name": "stdout",
     "output_type": "stream",
     "text": [
      "[ 3.  7.]\n"
     ]
    }
   ],
   "source": [
    "# aに[1, 3], bに[2, 4]というベクトルを入れて評価\n",
    "print(sess.run(adder_node, feed_dict={a: [1, 3], b: [2, 4]}))"
   ]
  },
  {
   "cell_type": "code",
   "execution_count": 20,
   "metadata": {
    "collapsed": true
   },
   "outputs": [],
   "source": [
    "writer = tf.summary.FileWriter('./graphs01', sess.graph)  # イベントファイルを保存\n",
    "writer.close()"
   ]
  },
  {
   "cell_type": "markdown",
   "metadata": {},
   "source": [
    "計算グラフに徐々に処理を追加していける。"
   ]
  },
  {
   "cell_type": "code",
   "execution_count": 21,
   "metadata": {
    "collapsed": false,
    "scrolled": true
   },
   "outputs": [
    {
     "name": "stdout",
     "output_type": "stream",
     "text": [
      "22.5\n"
     ]
    }
   ],
   "source": [
    "add_and_triple = adder_node * 3.\n",
    "print(sess.run(add_and_triple, {a: 3, b: 4.5})) # feed_dictは省略できる"
   ]
  },
  {
   "cell_type": "code",
   "execution_count": 22,
   "metadata": {
    "collapsed": true
   },
   "outputs": [],
   "source": [
    "writer = tf.summary.FileWriter('./graphs01', sess.graph)  # イベントファイルを保存\n",
    "writer.close()"
   ]
  },
  {
   "cell_type": "markdown",
   "metadata": {},
   "source": [
    "## 変数（`tf.Variable`）\n",
    "\n",
    "- パラメータ\n",
    "- データ型と初期値を与えて初期化    `tf.Variable([.3], tf.float32)`"
   ]
  },
  {
   "cell_type": "markdown",
   "metadata": {},
   "source": [
    "y = 0.3 x - 0.3"
   ]
  },
  {
   "cell_type": "code",
   "execution_count": 23,
   "metadata": {
    "collapsed": true
   },
   "outputs": [],
   "source": [
    "# 線形モデルの計算グラフを構築\n",
    "W = tf.Variable([.3], tf.float32)  # パラメータ\n",
    "b = tf.Variable([-.3], tf.float32)  # パラメータ\n",
    "x = tf.placeholder(tf.float32)  # 外部入力\n",
    "linear_model = W * x + b  # 線形モデル"
   ]
  },
  {
   "cell_type": "code",
   "execution_count": 24,
   "metadata": {
    "collapsed": true
   },
   "outputs": [],
   "source": [
    "writer = tf.summary.FileWriter('./graphs01', sess.graph)  # イベントファイルを保存\n",
    "writer.close()"
   ]
  },
  {
   "cell_type": "markdown",
   "metadata": {},
   "source": [
    "## 初期化\n",
    "\n",
    "- `tf.constant`は呼んだときに初期化され、値は変化しない。\n",
    "- `tf.Variable`を初期化するには、以下のようにする必要あり。"
   ]
  },
  {
   "cell_type": "code",
   "execution_count": 25,
   "metadata": {
    "collapsed": true
   },
   "outputs": [],
   "source": [
    "# 変数の初期化\n",
    "init = tf.global_variables_initializer()  # 変数を初期化する処理を計算グラフに追加\n",
    "sess.run(init) # 初期化を実行"
   ]
  },
  {
   "cell_type": "markdown",
   "metadata": {},
   "source": [
    "## 複数の値に対して実行"
   ]
  },
  {
   "cell_type": "code",
   "execution_count": 26,
   "metadata": {
    "collapsed": false,
    "scrolled": true
   },
   "outputs": [
    {
     "data": {
      "text/plain": [
       "array([ 0.        ,  0.30000001,  0.60000002,  0.90000004], dtype=float32)"
      ]
     },
     "execution_count": 26,
     "metadata": {},
     "output_type": "execute_result"
    }
   ],
   "source": [
    "sess.run(linear_model, {x:[1,2,3,4]})"
   ]
  },
  {
   "cell_type": "markdown",
   "metadata": {},
   "source": [
    "## 出力の評価\n",
    "\n",
    "- モデルの出力を評価するためには正しい出力が必要\n",
    "- 正しい出力を入れるところ（外部入力）が必要\n",
    "\n",
    "tf.square関数は渡された行列の各要素を二乗します。\n",
    "tf.reduce_sum関数は渡された行列の要素を足し合わせ、二乗誤差を計算します。"
   ]
  },
  {
   "cell_type": "code",
   "execution_count": 27,
   "metadata": {
    "collapsed": true
   },
   "outputs": [],
   "source": [
    "y = tf.placeholder(tf.float32)  # 正しい出力を入れるところ"
   ]
  },
  {
   "cell_type": "code",
   "execution_count": 28,
   "metadata": {
    "collapsed": true
   },
   "outputs": [],
   "source": [
    "squared_deltas = tf.square(linear_model - y)  ## 各要素を二乗"
   ]
  },
  {
   "cell_type": "code",
   "execution_count": 29,
   "metadata": {
    "collapsed": true
   },
   "outputs": [],
   "source": [
    "loss = tf.reduce_sum(squared_deltas)  ## ベクトル要素を足し合わせ、二乗誤差を作成"
   ]
  },
  {
   "cell_type": "code",
   "execution_count": 30,
   "metadata": {
    "collapsed": false
   },
   "outputs": [
    {
     "data": {
      "text/plain": [
       "23.66"
      ]
     },
     "execution_count": 30,
     "metadata": {},
     "output_type": "execute_result"
    }
   ],
   "source": [
    "sess.run(loss, {x: [1, 2, 3, 4], y: [0, -1, -2, -3]})"
   ]
  },
  {
   "cell_type": "code",
   "execution_count": 31,
   "metadata": {
    "collapsed": true
   },
   "outputs": [],
   "source": [
    "writer = tf.summary.FileWriter('./graphs01', sess.graph)  # イベントファイルを保存\n",
    "writer.close()"
   ]
  },
  {
   "cell_type": "markdown",
   "metadata": {},
   "source": [
    "## 手動でパラメータの値を設定\n",
    "\n",
    "<!-- [-1, 1] -->"
   ]
  },
  {
   "cell_type": "code",
   "execution_count": 32,
   "metadata": {
    "collapsed": false
   },
   "outputs": [],
   "source": [
    "# 手動で値を設定（tf.assign）\n",
    "fixW = tf.assign(W, [10.])\n",
    "fixb = tf.assign(b, [10])"
   ]
  },
  {
   "cell_type": "code",
   "execution_count": 33,
   "metadata": {
    "collapsed": false
   },
   "outputs": [
    {
     "data": {
      "text/plain": [
       "[array([ 0.30000001], dtype=float32), array([-0.30000001], dtype=float32)]"
      ]
     },
     "execution_count": 33,
     "metadata": {},
     "output_type": "execute_result"
    }
   ],
   "source": [
    "sess.run([W, b])"
   ]
  },
  {
   "cell_type": "code",
   "execution_count": 34,
   "metadata": {
    "collapsed": false
   },
   "outputs": [
    {
     "data": {
      "text/plain": [
       "[array([ 10.], dtype=float32), array([ 10.], dtype=float32)]"
      ]
     },
     "execution_count": 34,
     "metadata": {},
     "output_type": "execute_result"
    }
   ],
   "source": [
    "sess.run([fixW, fixb])"
   ]
  },
  {
   "cell_type": "code",
   "execution_count": 35,
   "metadata": {
    "collapsed": false
   },
   "outputs": [
    {
     "data": {
      "text/plain": [
       "[array([ 10.], dtype=float32), array([ 10.], dtype=float32)]"
      ]
     },
     "execution_count": 35,
     "metadata": {},
     "output_type": "execute_result"
    }
   ],
   "source": [
    "sess.run([W, b])"
   ]
  },
  {
   "cell_type": "code",
   "execution_count": 36,
   "metadata": {
    "collapsed": false
   },
   "outputs": [
    {
     "data": {
      "text/plain": [
       "5934.0"
      ]
     },
     "execution_count": 36,
     "metadata": {},
     "output_type": "execute_result"
    }
   ],
   "source": [
    "# エラーの値を表示\n",
    "sess.run(loss, {x: [1, 2, 3, 4], y: [0, -1, -2, -3]})"
   ]
  },
  {
   "cell_type": "code",
   "execution_count": 37,
   "metadata": {
    "collapsed": true
   },
   "outputs": [],
   "source": [
    "writer = tf.summary.FileWriter('./graphs01', sess.graph)  # イベントファイルを保存\n",
    "writer.close()"
   ]
  },
  {
   "cell_type": "markdown",
   "metadata": {},
   "source": [
    "## 自動でパラメータの値を調整（tf.train API）"
   ]
  },
  {
   "cell_type": "markdown",
   "metadata": {},
   "source": [
    "- TensorFlow自体が最適化手法（損失関数を減らすように少しずつパラメータを変化させる方法）のAPIを提供\n",
    "- 勾配法が一番シンプル\n",
    "- 損失関数のパラメータに対する勾配は`tf.gradients`で得られる"
   ]
  },
  {
   "cell_type": "code",
   "execution_count": 38,
   "metadata": {
    "collapsed": true
   },
   "outputs": [],
   "source": [
    "# 最適化手法を選定\n",
    "optimizer = tf.train.GradientDescentOptimizer(0.01)"
   ]
  },
  {
   "cell_type": "code",
   "execution_count": 39,
   "metadata": {
    "collapsed": false
   },
   "outputs": [],
   "source": [
    "# 最適化する損失関数を登録\n",
    "train = optimizer.minimize(loss)"
   ]
  },
  {
   "cell_type": "code",
   "execution_count": 40,
   "metadata": {
    "collapsed": false,
    "scrolled": false
   },
   "outputs": [],
   "source": [
    "all_loss = []\n",
    "all_W = []\n",
    "all_b = []\n",
    "\n",
    "sess.run(init)\n",
    "\n",
    "curr_loss, curr_W, curr_b = sess.run([loss, W, b], \n",
    "                                     feed_dict={x: [1, 2, 3, 4], y: [0, -1, -2, -3]})\n",
    "\n",
    "all_loss.append(curr_loss)\n",
    "all_W.append(curr_W)\n",
    "all_b.append(curr_b)\n",
    "\n",
    "for i in range(500):\n",
    "    \n",
    "    _, curr_loss , curr_W, curr_b= sess.run([train, loss, W, b], \n",
    "                            feed_dict={x: [1, 2, 3, 4], y: [0, -1, -2, -3]})\n",
    "\n",
    "    all_loss.append(curr_loss)\n",
    "    all_W.append(curr_W)\n",
    "    all_b.append(curr_b)"
   ]
  },
  {
   "cell_type": "code",
   "execution_count": 41,
   "metadata": {
    "collapsed": true
   },
   "outputs": [],
   "source": [
    "writer = tf.summary.FileWriter('./graphs01', sess.graph)  # イベントファイルを保存\n",
    "writer.close()"
   ]
  },
  {
   "cell_type": "code",
   "execution_count": 42,
   "metadata": {
    "collapsed": false
   },
   "outputs": [
    {
     "data": {
      "text/plain": [
       "<matplotlib.legend.Legend at 0x11bd13e80>"
      ]
     },
     "execution_count": 42,
     "metadata": {},
     "output_type": "execute_result"
    },
    {
     "data": {
      "image/png": "[encoded data removed]",
      "text/plain": [
       "<matplotlib.figure.Figure at 0x11b76fd68>"
      ]
     },
     "metadata": {},
     "output_type": "display_data"
    }
   ],
   "source": [
    "fig, ax = plt.subplots(2,1,figsize=(10, 10))\n",
    "\n",
    "ax[0].plot(all_loss)\n",
    "ax[0].set_ylabel('Loss')\n",
    "\n",
    "\n",
    "ax[1].plot(all_W, label='W')\n",
    "ax[1].plot(all_b, label='b')\n",
    "ax[1].set_ylabel('Parameter values')\n",
    "ax[1].legend()"
   ]
  }
 ],
 "metadata": {
  "kernelspec": {
   "display_name": "Python 3",
   "language": "python",
   "name": "python3"
  },
  "language_info": {
   "codemirror_mode": {
    "name": "ipython",
    "version": 3
   },
   "file_extension": ".py",
   "mimetype": "text/x-python",
   "name": "python",
   "nbconvert_exporter": "python",
   "pygments_lexer": "ipython3",
   "version": "3.5.3"
  }
 },
 "nbformat": 4,
 "nbformat_minor": 0
}
