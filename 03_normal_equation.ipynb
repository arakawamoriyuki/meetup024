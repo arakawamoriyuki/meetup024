{
 "cells": [
  {
   "cell_type": "markdown",
   "metadata": {
    "collapsed": true
   },
   "source": [
    "# 生pythonで正規方程式(多数の特徴)\n",
    "\n",
    "```\n",
    "家を売った際の値段を予測する為\n",
    "広さ(x1)と部屋数(x2)から売値(y)を予測する\n",
    "```"
   ]
  },
  {
   "cell_type": "code",
   "execution_count": 6,
   "metadata": {
    "collapsed": true
   },
   "outputs": [],
   "source": [
    "%matplotlib inline\n",
    "import numpy as np\n",
    "from numpy.linalg import pinv\n",
    "from matplotlib import pyplot as plot"
   ]
  },
  {
   "cell_type": "markdown",
   "metadata": {
    "collapsed": true
   },
   "source": [
    "### 予測の悪さを計算する関数\n",
    "\n",
    "```\n",
    "X = 広さと部屋数の2次元配列\n",
    "y = 利益の1次元配列\n",
    "thetaは y = ax + b のaとb\n",
    "aとbはこのcompute_cost関数(予測の悪さを計算する関数)のフィードバックを受けて修正し\n",
    "(学習するたびだんだんと)勝手に調整してくれる\n",
    "```"
   ]
  },
  {
   "cell_type": "code",
   "execution_count": 7,
   "metadata": {
    "collapsed": true
   },
   "outputs": [],
   "source": [
    "def compute_cost(X, y, theta):\n",
    "    m = y.size\n",
    "    costs = (X.dot(theta) - y) ** 2\n",
    "    return costs.sum() / (2.0 * m)"
   ]
  },
  {
   "cell_type": "markdown",
   "metadata": {
    "collapsed": true
   },
   "source": [
    "### 最急降下法\n",
    "\n",
    "cost関数のフィードバックを受けて1次関数のaとbを修正する関数\n",
    "要は学習を行う関数。\n",
    "いろいろあるが、この例は最急降下法(gradient descent)というアルゴリズムを利用\n",
    "\n",
    "alphaは学習率\n",
    "学習率は高いと学習速度が早いが、発散と呼ばれるいきなり全く的外れな予測しかしないようになる。\n",
    "学習率は高いと学習速度が遅い\n",
    "\n",
    "学習率のような自分で調整しないといけないパラメータをハイパーパラメータという"
   ]
  },
  {
   "cell_type": "code",
   "execution_count": 8,
   "metadata": {
    "collapsed": true
   },
   "outputs": [],
   "source": [
    "def gradient_descent(X, y, theta, alpha, num_iters):\n",
    "    m = y.size\n",
    "    J_history = np.zeros(num_iters)\n",
    "    for i in range(num_iters):\n",
    "        h = X.dot(theta)\n",
    "        errors = h - y\n",
    "        delta = X.T.dot(errors)\n",
    "        theta -= (alpha / m) * delta\n",
    "        J_history[i] = compute_cost(X, y, theta)\n",
    "    return (theta, J_history)"
   ]
  },
  {
   "cell_type": "markdown",
   "metadata": {
    "collapsed": true
   },
   "source": [
    "### 正規方程式\n",
    "\n",
    "- 特徴数がだいたい10000以下なら早い\n",
    "- 学習率が必要ない"
   ]
  },
  {
   "cell_type": "code",
   "execution_count": 11,
   "metadata": {
    "collapsed": true
   },
   "outputs": [],
   "source": [
    "def normal_equation(X, y):\n",
    "    return pinv(X.T.dot(X)).dot(X.T).dot(y)"
   ]
  },
  {
   "cell_type": "code",
   "execution_count": 12,
   "metadata": {
    "collapsed": true
   },
   "outputs": [],
   "source": [
    "# データのロード、変数の初期化\n",
    "data = np.loadtxt('./assets/data3.txt', delimiter=',')\n",
    "X = data[:, 0:2]\n",
    "y = data[:, 2]\n",
    "m = X.shape[0]\n",
    "X = np.concatenate((np.ones((m, 1)), X), axis=1)"
   ]
  },
  {
   "cell_type": "code",
   "execution_count": 13,
   "metadata": {
    "collapsed": false
   },
   "outputs": [],
   "source": [
    "# 正規方程式(Normal equation)の実行\n",
    "theta = normal_equation(X, y)\n",
    "size = 1650\n",
    "rooms = 3\n",
    "x = np.array([[1.0, size, rooms]])\n",
    "price = x.dot(theta)[0]"
   ]
  },
  {
   "cell_type": "code",
   "execution_count": 14,
   "metadata": {
    "collapsed": false
   },
   "outputs": [
    {
     "name": "stdout",
     "output_type": "stream",
     "text": [
      "広さ1650で3部屋の家売値予測値は293081.46433497214です。\n"
     ]
    }
   ],
   "source": [
    "# 予測値\n",
    "print(\"広さ{size}で{rooms}部屋の家売値予測値は{price}です。\".format(\n",
    "    size=size,\n",
    "    rooms=rooms,\n",
    "    price=price\n",
    "))"
   ]
  },
  {
   "cell_type": "code",
   "execution_count": null,
   "metadata": {
    "collapsed": true
   },
   "outputs": [],
   "source": []
  }
 ],
 "metadata": {
  "kernelspec": {
   "display_name": "Python 3",
   "language": "python",
   "name": "python3"
  },
  "language_info": {
   "codemirror_mode": {
    "name": "ipython",
    "version": 3
   },
   "file_extension": ".py",
   "mimetype": "text/x-python",
   "name": "python",
   "nbconvert_exporter": "python",
   "pygments_lexer": "ipython3",
   "version": "3.5.3"
  }
 },
 "nbformat": 4,
 "nbformat_minor": 0
}
