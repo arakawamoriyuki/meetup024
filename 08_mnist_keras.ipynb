{
 "cells": [
  {
   "cell_type": "markdown",
   "metadata": {
    "collapsed": true
   },
   "source": [
    "# kerasを利用した手書き文字分類\n",
    "\n",
    "ニューラルネットワークを構築する為のtensorflowラッパーライブラリkerasを利用した実装"
   ]
  },
  {
   "cell_type": "markdown",
   "metadata": {
    "collapsed": true
   },
   "source": [
    "### データセット"
   ]
  },
  {
   "cell_type": "code",
   "execution_count": 1,
   "metadata": {
    "collapsed": false
   },
   "outputs": [
    {
     "name": "stderr",
     "output_type": "stream",
     "text": [
      "Using TensorFlow backend.\n"
     ]
    }
   ],
   "source": [
    "# データセット https://keras.io/ja/datasets/\n",
    "from keras.datasets import mnist\n",
    "from keras.utils import np_utils"
   ]
  },
  {
   "cell_type": "code",
   "execution_count": 2,
   "metadata": {
    "collapsed": true
   },
   "outputs": [],
   "source": [
    "(X_train, y_train),(X_test,y_test) = mnist.load_data()\n",
    "X_train = X_train.reshape(60000,784).astype('float32')\n",
    "X_test = X_test.reshape(10000,784).astype('float32')"
   ]
  },
  {
   "cell_type": "code",
   "execution_count": 3,
   "metadata": {
    "collapsed": true
   },
   "outputs": [],
   "source": [
    "#色濃度1~256[0,255]の値を0~1[0,1]に正規化\n",
    "X_train /= 255.0\n",
    "X_test /= 255.0"
   ]
  },
  {
   "cell_type": "code",
   "execution_count": 4,
   "metadata": {
    "collapsed": true
   },
   "outputs": [],
   "source": [
    "# 1 of Kのベクトルに変換\n",
    "y_train = np_utils.to_categorical(y_train, 10)\n",
    "y_test = np_utils.to_categorical(y_test, 10)"
   ]
  },
  {
   "cell_type": "code",
   "execution_count": 5,
   "metadata": {
    "collapsed": false
   },
   "outputs": [
    {
     "name": "stdout",
     "output_type": "stream",
     "text": [
      "中身\n",
      "[[ 0.  0.  0. ...,  0.  0.  0.]\n",
      " [ 0.  0.  0. ...,  0.  0.  0.]\n",
      " [ 0.  0.  0. ...,  0.  0.  0.]\n",
      " ..., \n",
      " [ 0.  0.  0. ...,  0.  0.  0.]\n",
      " [ 0.  0.  0. ...,  0.  0.  0.]\n",
      " [ 0.  0.  0. ...,  0.  0.  0.]]\n",
      "[[ 0.  0.  0. ...,  0.  0.  0.]\n",
      " [ 1.  0.  0. ...,  0.  0.  0.]\n",
      " [ 0.  0.  0. ...,  0.  0.  0.]\n",
      " ..., \n",
      " [ 0.  0.  0. ...,  0.  0.  0.]\n",
      " [ 0.  0.  0. ...,  0.  0.  0.]\n",
      " [ 0.  0.  0. ...,  0.  1.  0.]]\n",
      "形状\n",
      "(60000, 784)\n",
      "(60000, 10)\n"
     ]
    }
   ],
   "source": [
    "print('中身')\n",
    "print(X_train)\n",
    "print(y_train)\n",
    "\n",
    "print('形状')\n",
    "print(X_train.shape)\n",
    "print(y_train.shape)"
   ]
  },
  {
   "cell_type": "markdown",
   "metadata": {
    "collapsed": true
   },
   "source": [
    "### モデル"
   ]
  },
  {
   "cell_type": "code",
   "execution_count": 6,
   "metadata": {
    "collapsed": true
   },
   "outputs": [],
   "source": [
    "# モデルの作成 https://keras.io/ja/models/model/\n",
    "from keras.models import Sequential\n",
    "# 層の作成 https://keras.io/ja/layers/core/#dense\n",
    "from keras.layers import Dense\n",
    "# 活性化関数 https://keras.io/ja/activations/\n",
    "from keras.layers import Activation\n",
    "# より高度な活性化関数\n",
    "# from keras.layers.advanced_activations import PReLU, LearkyReLU"
   ]
  },
  {
   "cell_type": "code",
   "execution_count": 7,
   "metadata": {
    "collapsed": false
   },
   "outputs": [],
   "source": [
    "# モデルの作成\n",
    "model = Sequential()\n",
    "\n",
    "# 入力層と中間層の接続\n",
    "model.add(Dense(64, input_dim=784))\n",
    "\n",
    "# 中間層の活性化関数の選択\n",
    "model.add(Activation(\"relu\"))\n",
    "\n",
    "# 中間層と出力層の接続\n",
    "model.add(Dense(10))\n",
    "\n",
    "# 出力層の活性化関数の選択\n",
    "model.add(Activation(\"softmax\"))"
   ]
  },
  {
   "cell_type": "markdown",
   "metadata": {
    "collapsed": true
   },
   "source": [
    "### 学習プロセス\n",
    "\n"
   ]
  },
  {
   "cell_type": "code",
   "execution_count": 8,
   "metadata": {
    "collapsed": true
   },
   "outputs": [],
   "source": [
    "# 最適化アルゴリズム https://keras.io/ja/optimizers/\n",
    "from keras.optimizers import SGD\n",
    "\n",
    "# https://keras.io/ja/models/model/#compile\n",
    "model.compile(\n",
    "    # 目的関数 https://keras.io/ja/objectives/\n",
    "    loss=\"categorical_crossentropy\",\n",
    "    # 最適化アルゴリズム 確率的勾配降下法\n",
    "    optimizer=SGD(\n",
    "        lr=1e-2,\n",
    "        momentum=0.9,\n",
    "        nesterov=True\n",
    "    ),\n",
    "    # モデルにより評価されるメトリクスのリスト\n",
    "    metrics=[\"accuracy\"]\n",
    ")"
   ]
  },
  {
   "cell_type": "markdown",
   "metadata": {
    "collapsed": true
   },
   "source": [
    "### トレーニング\n",
    "\n"
   ]
  },
  {
   "cell_type": "code",
   "execution_count": 9,
   "metadata": {
    "collapsed": false
   },
   "outputs": [
    {
     "name": "stdout",
     "output_type": "stream",
     "text": [
      "Train on 48000 samples, validate on 12000 samples\n",
      "Epoch 1/20\n",
      "48000/48000 [==============================] - 5s - loss: 0.3574 - acc: 0.8966 - val_loss: 0.2066 - val_acc: 0.9425\n",
      "Epoch 2/20\n",
      "48000/48000 [==============================] - 4s - loss: 0.1852 - acc: 0.9465 - val_loss: 0.1629 - val_acc: 0.9527\n",
      "Epoch 3/20\n",
      "48000/48000 [==============================] - 5s - loss: 0.1380 - acc: 0.9599 - val_loss: 0.1358 - val_acc: 0.9610\n",
      "Epoch 4/20\n",
      "48000/48000 [==============================] - 5s - loss: 0.1124 - acc: 0.9675 - val_loss: 0.1373 - val_acc: 0.9583\n",
      "Epoch 5/20\n",
      "48000/48000 [==============================] - 5s - loss: 0.0958 - acc: 0.9724 - val_loss: 0.1169 - val_acc: 0.9640\n",
      "Epoch 6/20\n",
      "48000/48000 [==============================] - 4s - loss: 0.0823 - acc: 0.9768 - val_loss: 0.1079 - val_acc: 0.9677\n",
      "Epoch 7/20\n",
      "48000/48000 [==============================] - 4s - loss: 0.0721 - acc: 0.9788 - val_loss: 0.1060 - val_acc: 0.9673\n",
      "Epoch 8/20\n",
      "48000/48000 [==============================] - 4s - loss: 0.0637 - acc: 0.9814 - val_loss: 0.1115 - val_acc: 0.9678\n",
      "Epoch 9/20\n",
      "48000/48000 [==============================] - 4s - loss: 0.0574 - acc: 0.9836 - val_loss: 0.1024 - val_acc: 0.9694\n",
      "Epoch 10/20\n",
      "48000/48000 [==============================] - 4s - loss: 0.0510 - acc: 0.9855 - val_loss: 0.0964 - val_acc: 0.9723\n",
      "Epoch 11/20\n",
      "48000/48000 [==============================] - 5s - loss: 0.0459 - acc: 0.9868 - val_loss: 0.1049 - val_acc: 0.9696\n",
      "Epoch 12/20\n",
      "48000/48000 [==============================] - 4s - loss: 0.0419 - acc: 0.9878 - val_loss: 0.1014 - val_acc: 0.9698\n",
      "Epoch 13/20\n",
      "48000/48000 [==============================] - 4s - loss: 0.0376 - acc: 0.9896 - val_loss: 0.0961 - val_acc: 0.9718\n",
      "Epoch 14/20\n",
      "48000/48000 [==============================] - 4s - loss: 0.0342 - acc: 0.9906 - val_loss: 0.0943 - val_acc: 0.9725\n",
      "Epoch 15/20\n",
      "48000/48000 [==============================] - 5s - loss: 0.0310 - acc: 0.9913 - val_loss: 0.0986 - val_acc: 0.9717\n",
      "Epoch 16/20\n",
      "48000/48000 [==============================] - 4s - loss: 0.0281 - acc: 0.9924 - val_loss: 0.0962 - val_acc: 0.9718\n",
      "Epoch 17/20\n",
      "48000/48000 [==============================] - 7s - loss: 0.0250 - acc: 0.9930 - val_loss: 0.0958 - val_acc: 0.9729\n",
      "Epoch 18/20\n",
      "48000/48000 [==============================] - 6s - loss: 0.0232 - acc: 0.9936 - val_loss: 0.0948 - val_acc: 0.9746\n",
      "Epoch 19/20\n",
      "48000/48000 [==============================] - 4s - loss: 0.0214 - acc: 0.9951 - val_loss: 0.1009 - val_acc: 0.9721\n",
      "Epoch 20/20\n",
      "48000/48000 [==============================] - 4s - loss: 0.0186 - acc: 0.9954 - val_loss: 0.0994 - val_acc: 0.9725\n"
     ]
    }
   ],
   "source": [
    "# callback\n",
    "from keras.callbacks import ModelCheckpoint\n",
    "\n",
    "history = model.fit(\n",
    "    X_train,\n",
    "    y_train,\n",
    "    # 学習回数\n",
    "    epochs=20,\n",
    "    # テストデータ率\n",
    "    validation_split=0.2,\n",
    "    # ミニバッチ個数 データをbatch_size個に分けて学習\n",
    "    batch_size=32,\n",
    "    # モデルの保存callback\n",
    "    callbacks=[ModelCheckpoint(\"model.hdf5\")]\n",
    ")"
   ]
  },
  {
   "cell_type": "markdown",
   "metadata": {
    "collapsed": true
   },
   "source": [
    "### モデルの評価\n",
    "\n"
   ]
  },
  {
   "cell_type": "code",
   "execution_count": 10,
   "metadata": {
    "collapsed": false
   },
   "outputs": [
    {
     "name": "stdout",
     "output_type": "stream",
     "text": [
      " 9056/10000 [==========================>...] - ETA: 0sloss:0.09086544470982626 accuracy:0.9735\n"
     ]
    }
   ],
   "source": [
    "loss_and_metrics = model.evaluate(\n",
    "    X_test,\n",
    "    y_test\n",
    ")\n",
    "print(\"loss:{} accuracy:{}\".format(\n",
    "    loss_and_metrics[0],\n",
    "    loss_and_metrics[1]\n",
    "))"
   ]
  },
  {
   "cell_type": "markdown",
   "metadata": {
    "collapsed": true
   },
   "source": [
    "### モデル構造の可視化\n",
    "\n"
   ]
  },
  {
   "cell_type": "code",
   "execution_count": 11,
   "metadata": {
    "collapsed": false
   },
   "outputs": [],
   "source": [
    "from keras.utils.vis_utils import plot_model\n",
    "plot_model(model,\n",
    "    to_file=\"model.png\",\n",
    "    show_shapes=True,\n",
    "    show_layer_names=True\n",
    ")"
   ]
  },
  {
   "cell_type": "markdown",
   "metadata": {
    "collapsed": true
   },
   "source": [
    "### トレーニングの可視化\n",
    "\n"
   ]
  },
  {
   "cell_type": "code",
   "execution_count": 12,
   "metadata": {
    "collapsed": false
   },
   "outputs": [
    {
     "data": {
      "image/png": "[encoded data removed]",
      "text/plain": [
       "<matplotlib.figure.Figure at 0x138e18828>"
      ]
     },
     "metadata": {},
     "output_type": "display_data"
    },
    {
     "data": {
      "image/png": "[encoded data removed]",
      "text/plain": [
       "<matplotlib.figure.Figure at 0x139ac95f8>"
      ]
     },
     "metadata": {},
     "output_type": "display_data"
    }
   ],
   "source": [
    "%matplotlib inline\n",
    "import matplotlib.pyplot as plt\n",
    "\n",
    "def plot_history(history):\n",
    "    # 精度の履歴をプロット\n",
    "    plt.plot(history.history['acc'],\"o-\",label=\"accuracy\")\n",
    "    plt.plot(history.history['val_acc'],\"o-\",label=\"val_acc\")\n",
    "    plt.title('model accuracy')\n",
    "    plt.xlabel('epoch')\n",
    "    plt.ylabel('accuracy')\n",
    "    plt.legend(loc=\"lower right\")\n",
    "    plt.show()\n",
    "\n",
    "    # 損失の履歴をプロット\n",
    "    plt.plot(history.history['loss'],\"o-\",label=\"loss\",)\n",
    "    plt.plot(history.history['val_loss'],\"o-\",label=\"val_loss\")\n",
    "    plt.title('model loss')\n",
    "    plt.xlabel('epoch')\n",
    "    plt.ylabel('loss')\n",
    "    plt.legend(loc='lower right')\n",
    "    plt.show()\n",
    "\n",
    "# modelに学習させた時の変化の様子をplot\n",
    "plot_history(history)"
   ]
  }
 ],
 "metadata": {
  "kernelspec": {
   "display_name": "Python 3",
   "language": "python",
   "name": "python3"
  },
  "language_info": {
   "codemirror_mode": {
    "name": "ipython",
    "version": 3
   },
   "file_extension": ".py",
   "mimetype": "text/x-python",
   "name": "python",
   "nbconvert_exporter": "python",
   "pygments_lexer": "ipython3",
   "version": "3.5.3"
  }
 },
 "nbformat": 4,
 "nbformat_minor": 0
}
