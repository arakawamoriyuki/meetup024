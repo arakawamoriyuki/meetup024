{
 "cells": [
  {
   "cell_type": "markdown",
   "metadata": {
    "collapsed": true
   },
   "source": [
    "# 生pythonで正規化したロジスティック回帰\n",
    "製造工場からのマイクロチップが品質保証に合格しているかどうかを予測する。\n",
    "試験結果1(x1)と試験結果2(x2)から合格しているか(y)を分類する"
   ]
  },
  {
   "cell_type": "code",
   "execution_count": 1,
   "metadata": {
    "collapsed": true
   },
   "outputs": [],
   "source": [
    "%matplotlib inline\n",
    "import numpy as np\n",
    "from matplotlib import pyplot as plot\n",
    "from scipy import optimize"
   ]
  },
  {
   "cell_type": "markdown",
   "metadata": {
    "collapsed": true
   },
   "source": [
    "### 教師データを可視化する\n",
    "\n",
    "```\n",
    "matplotlibを使ってXとyの可視化を行う関数\n",
    "```"
   ]
  },
  {
   "cell_type": "code",
   "execution_count": 2,
   "metadata": {
    "collapsed": true
   },
   "outputs": [],
   "source": [
    "def plot_data(X, y):\n",
    "    pos = y.nonzero()[0]\n",
    "    neg = (y == 0).nonzero()[0]\n",
    "    plot.plot(X[pos, 0], X[pos, 1], 'k+', markersize=7, linewidth=2)\n",
    "    plot.plot(X[neg, 0], X[neg, 1], 'ko', markerfacecolor='y', markersize=7, linewidth=2)\n",
    "    plot.xlabel('Exam 1 score')\n",
    "    plot.ylabel('Exam 2 score')"
   ]
  },
  {
   "cell_type": "markdown",
   "metadata": {
    "collapsed": true
   },
   "source": [
    "### シグモイド関数\n",
    "\n"
   ]
  },
  {
   "cell_type": "code",
   "execution_count": 3,
   "metadata": {
    "collapsed": true
   },
   "outputs": [],
   "source": [
    "def sigmoid(x):\n",
    "    return 1.0 / (1.0 + np.exp(-x))"
   ]
  },
  {
   "cell_type": "markdown",
   "metadata": {
    "collapsed": true
   },
   "source": [
    "### コスト関数\n",
    "\n"
   ]
  },
  {
   "cell_type": "code",
   "execution_count": 4,
   "metadata": {
    "collapsed": true
   },
   "outputs": [],
   "source": [
    "def cost_function(theta, X, y):\n",
    "    m = X.shape[0]\n",
    "    h = sigmoid(X.dot(theta))\n",
    "    cost = sum(-y * np.log(h) - (1.0 - y) * np.log(1.0 - h))\n",
    "    grad = X.T.dot(h - y)\n",
    "    return (cost / m, grad / m)"
   ]
  },
  {
   "cell_type": "markdown",
   "metadata": {
    "collapsed": true
   },
   "source": [
    "### 分類結果\n",
    "\n"
   ]
  },
  {
   "cell_type": "code",
   "execution_count": 5,
   "metadata": {
    "collapsed": true
   },
   "outputs": [],
   "source": [
    "def predict(theta, X):\n",
    "    return sigmoid(X.dot(theta)) >= 0.5"
   ]
  },
  {
   "cell_type": "markdown",
   "metadata": {
    "collapsed": true
   },
   "source": [
    "### フィーチャーマッピング\n",
    "\n"
   ]
  },
  {
   "cell_type": "code",
   "execution_count": 6,
   "metadata": {
    "collapsed": false
   },
   "outputs": [],
   "source": [
    "def map_feature(X1, X2, degree=6):\n",
    "    \"\"\"\n",
    "    特徴の多項式を作成、より多くの特徴配列にして返す\n",
    "    X1, X2, X1.^2, X2.^2, X1*X2, X1*X2.^2, etc..\n",
    "    \"\"\"\n",
    "    m = X1.shape[0] if X1.shape else 1\n",
    "    cols = [np.ones(m)]\n",
    "    for i in range(1, degree + 1):\n",
    "        for j in range(i + 1):\n",
    "            cols.append((X1 ** (i - j)) * (X2 ** j))\n",
    "    return np.vstack(cols).T"
   ]
  },
  {
   "cell_type": "markdown",
   "metadata": {
    "collapsed": true
   },
   "source": [
    "### 正規化したロジスティック回帰\n",
    "\n"
   ]
  },
  {
   "cell_type": "code",
   "execution_count": 7,
   "metadata": {
    "collapsed": false
   },
   "outputs": [],
   "source": [
    "def cost_function_reg(theta, X, y, _lambda):\n",
    "    \"\"\"\n",
    "    正規化したロジスティック回帰とコスト関数\n",
    "    \"\"\"\n",
    "    m = X.shape[0]\n",
    "    cost, gradient = cost_function(theta, X, y)\n",
    "    reg_cost = (_lambda / (2.0 * m)) * np.sum(theta[1:] ** 2)\n",
    "    reg_gradient = (_lambda / m) * theta\n",
    "    reg_gradient[0] = 0\n",
    "    return cost + reg_cost, gradient + reg_gradient"
   ]
  },
  {
   "cell_type": "code",
   "execution_count": 8,
   "metadata": {
    "collapsed": true
   },
   "outputs": [],
   "source": [
    "# データのロード、変数の初期化\n",
    "data1 = np.loadtxt('./assets/data4.txt', delimiter=',')\n",
    "X_original = X = data1[:, 0:2]\n",
    "y = data1[:, 2]"
   ]
  },
  {
   "cell_type": "code",
   "execution_count": 9,
   "metadata": {
    "collapsed": false
   },
   "outputs": [
    {
     "data": {
      "image/png": "[encoded data removed]",
      "text/plain": [
       "<matplotlib.figure.Figure at 0x119273208>"
      ]
     },
     "metadata": {},
     "output_type": "display_data"
    }
   ],
   "source": [
    "# トレーニングデータの可視化\n",
    "plot_data(X, y)"
   ]
  },
  {
   "cell_type": "code",
   "execution_count": 10,
   "metadata": {
    "collapsed": true
   },
   "outputs": [],
   "source": [
    "# 特徴の多項式を作成、より多くの特徴配列にする\n",
    "X = map_feature(X[:, 0], X[:, 1])\n",
    "m, n = X.shape\n",
    "initial_theta = np.zeros(n)"
   ]
  },
  {
   "cell_type": "code",
   "execution_count": 11,
   "metadata": {
    "collapsed": false
   },
   "outputs": [
    {
     "name": "stdout",
     "output_type": "stream",
     "text": [
      "Cost at initial theta (zeros): 0.693147\n"
     ]
    }
   ],
   "source": [
    "# 1回で出したコストcostを表示\n",
    "_lambda = 1.0\n",
    "cost, grad = cost_function_reg(initial_theta, X, y, _lambda)\n",
    "print('Cost at initial theta (zeros): %f' % cost)"
   ]
  },
  {
   "cell_type": "code",
   "execution_count": 12,
   "metadata": {
    "collapsed": true
   },
   "outputs": [],
   "source": [
    "# scipy.optimizeを利用してcostの最小値を探す\n",
    "loops = 400\n",
    "result = optimize.minimize(\n",
    "    cost_function_reg,\n",
    "    initial_theta,\n",
    "    args=(X, y, _lambda),\n",
    "    method='CG',\n",
    "    jac=True,\n",
    "    options={\n",
    "        'maxiter': loops,\n",
    "        'disp': False,\n",
    "    }\n",
    ")\n",
    "theta = result.x\n",
    "cost = result.fun"
   ]
  },
  {
   "cell_type": "code",
   "execution_count": 13,
   "metadata": {
    "collapsed": false
   },
   "outputs": [
    {
     "name": "stdout",
     "output_type": "stream",
     "text": [
      "Cost at theta found by scipy.optimize.minimize: 0.529003\n"
     ]
    }
   ],
   "source": [
    "# scipy.optimizeを利用して指定回数ループして探した最小値のcostを表示\n",
    "print('Cost at theta found by scipy.optimize.minimize: %f' % cost)"
   ]
  },
  {
   "cell_type": "code",
   "execution_count": 14,
   "metadata": {
    "collapsed": false
   },
   "outputs": [
    {
     "data": {
      "image/png": "[encoded data removed]",
      "text/plain": [
       "<matplotlib.figure.Figure at 0x119323748>"
      ]
     },
     "metadata": {},
     "output_type": "display_data"
    }
   ],
   "source": [
    "# 決定境界の表示\n",
    "plot_data(X_original, y)\n",
    "u = np.linspace(-1, 1.5, 50)\n",
    "v = np.linspace(-1, 1.5, 50)\n",
    "z = np.zeros((u.size, v.size))\n",
    "for i in range(u.size):\n",
    "    for j in range(v.size):\n",
    "        z[i, j] = map_feature(u[i], v[j]).dot(theta)\n",
    "plot.contour(u, v, z.T, 0)\n",
    "plot.show()"
   ]
  },
  {
   "cell_type": "code",
   "execution_count": 15,
   "metadata": {
    "collapsed": false
   },
   "outputs": [
    {
     "name": "stdout",
     "output_type": "stream",
     "text": [
      "試験結果が0.1と-0.1だったマイクロチップが品質保証に合格している確率は[ 0.76704059]\n",
      "試験結果が-0.7と0.2だったマイクロチップが品質保証に合格している確率は[ 0.40792773]\n",
      "試験結果が0.8と-0.1だったマイクロチップが品質保証に合格している確率は[ 0.3918064]\n",
      "試験結果が1.0と-1.0だったマイクロチップが品質保証に合格している確率は[ 0.00138481]\n"
     ]
    }
   ],
   "source": [
    "# 予測値の出力 (plot図から、試験結果は中央の0に近ければ合格率が高い)\n",
    "test_data = [\n",
    "    [0.1, -0.1],\n",
    "    [-0.7, 0.2],\n",
    "    [0.8, -0.1],\n",
    "    [1.0, -1.0]\n",
    "]\n",
    "for data in test_data:\n",
    "    test1 = data[0]\n",
    "    test2 = data[1]\n",
    "    x = map_feature(np.array(test1), np.array(test2))\n",
    "    prob = sigmoid(np.array(x).dot(theta))\n",
    "    print('試験結果が{}と{}だったマイクロチップが品質保証に合格している確率は{}'.format(test1, test2, prob))"
   ]
  },
  {
   "cell_type": "code",
   "execution_count": 16,
   "metadata": {
    "collapsed": false
   },
   "outputs": [
    {
     "name": "stdout",
     "output_type": "stream",
     "text": [
      "Train accuracy: 83.05 %\n"
     ]
    }
   ],
   "source": [
    "# 精度の表示\n",
    "predictions = predict(theta, X)\n",
    "accuracy = 100 * np.mean(predictions == y)\n",
    "print('Train accuracy: %0.2f %%' % accuracy)"
   ]
  }
 ],
 "metadata": {
  "kernelspec": {
   "display_name": "Python 3",
   "language": "python",
   "name": "python3"
  },
  "language_info": {
   "codemirror_mode": {
    "name": "ipython",
    "version": 3
   },
   "file_extension": ".py",
   "mimetype": "text/x-python",
   "name": "python",
   "nbconvert_exporter": "python",
   "pygments_lexer": "ipython3",
   "version": "3.5.3"
  }
 },
 "nbformat": 4,
 "nbformat_minor": 0
}
